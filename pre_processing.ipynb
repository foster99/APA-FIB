{
  "nbformat": 4,
  "nbformat_minor": 0,
  "metadata": {
    "language_info": {
      "codemirror_mode": {
        "name": "ipython",
        "version": 3
      },
      "file_extension": ".py",
      "mimetype": "text/x-python",
      "name": "python",
      "nbconvert_exporter": "python",
      "pygments_lexer": "ipython3",
      "version": "3.8.5-final"
    },
    "orig_nbformat": 2,
    "kernelspec": {
      "name": "python38564bitmyenvconda0db4e84f4a7f41889787cfb98f0dc0c6",
      "display_name": "Python 3.8.5 64-bit ('myenv': conda)",
      "language": "python"
    },
    "colab": {
      "name": "pre-processing.ipynb",
      "provenance": [],
      "collapsed_sections": [
        "E6dqw4R1qW2t",
        "4JufdSu0qW2w",
        "U0uIsk1CqW2w",
        "Ap7w0043uwgD",
        "ChtKJnFAqW2x",
        "rOAyzatLqW2x",
        "Vg0vC8NEqW2z",
        "NjeRkAuDqW2z",
        "DiWnC1sFqW20",
        "0Ld9b03VqW20",
        "iCCWvI5vqW22",
        "QB3FItZu7p-A",
        "IvIY88GHqW22",
        "T3LAdgSPLJab",
        "a2dGLSW8LMJw",
        "ibybOoARqW22",
        "Cpn38TwR6goS",
        "8F2ezWOq9V0P",
        "9ZftbsOtQlpM",
        "QCkQJ2oB9ZH7",
        "Gty7ll9k9ZvR",
        "meaQRevJ9aKd",
        "7vyyGeDX9asI",
        "UGyUEwG5fH-l",
        "Q1MWDMIghgWP",
        "UYV-Lwu8j1P4",
        "36pS-dUtyEbx",
        "vwWbHiDTpomA",
        "GIpS1RQysXnK",
        "avbAA5mestxq",
        "CGp66vy2s5e8",
        "QoR9GeXEtDs-",
        "bPrxl5_ptIlB",
        "eS_BnUj8tI_T",
        "yUFCrCDipecn",
        "osJlaq-GtY-7"
      ],
      "toc_visible": true
    }
  },
  "cells": [
    {
      "cell_type": "markdown",
      "metadata": {
        "id": "8NdGDzGvtQT_"
      },
      "source": [
        "# Preprocesado de datos"
      ]
    },
    {
      "cell_type": "markdown",
      "metadata": {
        "id": "E6dqw4R1qW2t"
      },
      "source": [
        "## Imports"
      ]
    },
    {
      "cell_type": "code",
      "metadata": {
        "id": "59cvfRXPqW2v"
      },
      "source": [
        "# Imports\n",
        "import pandas as pd\n",
        "import numpy as np\n",
        "import seaborn as sn\n",
        "import matplotlib.pyplot as plt\n",
        "from sklearn.neighbors import KNeighborsClassifier\n",
        "\n",
        "from IPython.core.interactiveshell import InteractiveShell\n",
        "InteractiveShell.ast_node_interactivity = \"all\"\n",
        "pd.set_option('precision', 3)"
      ],
      "execution_count": 295,
      "outputs": []
    },
    {
      "cell_type": "markdown",
      "metadata": {
        "id": "4JufdSu0qW2w"
      },
      "source": [
        "## Carga de datos\n",
        "\n",
        "En el dataset, los datos no definidos (missing) estan especificados con un simbolo de interrogacion."
      ]
    },
    {
      "cell_type": "code",
      "metadata": {
        "id": "C-Zu5AVTqW2w"
      },
      "source": [
        "original_data = pd.read_csv('dataset/automobile.csv', na_values=['?'])\n",
        "data = pd.read_csv('dataset/automobile.csv', na_values=['?'])"
      ],
      "execution_count": 296,
      "outputs": []
    },
    {
      "cell_type": "markdown",
      "metadata": {
        "id": "U0uIsk1CqW2w"
      },
      "source": [
        "### Categorias a OneHotEncoding\n",
        "\n",
        "Dado que contamos con categorias que no cuentan ni con relacion de orden, ni magnitud, para no confundir a los modelos creados, hemos decidido convertirlas a One Hot Encoding.\n"
      ]
    },
    {
      "cell_type": "code",
      "metadata": {
        "id": "23NkastJqW2x",
        "colab": {
          "base_uri": "https://localhost:8080/"
        },
        "outputId": "689bac6f-c58a-4f5d-dfd4-c01426bb1fed"
      },
      "source": [
        "data = pd.get_dummies(data,\n",
        "        columns=['make', 'fuel_type', 'aspiration', 'body_style', 'drive_wheels',\n",
        "                 'engine_location', 'engine_type', 'fuel_system'],\n",
        "        prefix=['make', 'fuel_type', 'aspiration', 'body_style', 'drive_wheels',\n",
        "                'engine_location', 'engine_type', 'fuel_system'])"
      ],
      "execution_count": 297,
      "outputs": [
        {
          "output_type": "stream",
          "text": [
            "<class 'pandas.core.frame.DataFrame'>\n",
            "RangeIndex: 205 entries, 0 to 204\n",
            "Data columns (total 69 columns):\n",
            " #   Column                  Non-Null Count  Dtype  \n",
            "---  ------                  --------------  -----  \n",
            " 0   symboling               205 non-null    int64  \n",
            " 1   normalized_losses       164 non-null    float64\n",
            " 2   num_of_doors            203 non-null    object \n",
            " 3   wheel_base              205 non-null    float64\n",
            " 4   length                  205 non-null    float64\n",
            " 5   width                   205 non-null    float64\n",
            " 6   height                  205 non-null    float64\n",
            " 7   curb_weight             205 non-null    int64  \n",
            " 8   num_of_cylinders        205 non-null    object \n",
            " 9   engine_size             205 non-null    int64  \n",
            " 10  bore                    201 non-null    float64\n",
            " 11  stroke                  201 non-null    float64\n",
            " 12  compression_ratio       205 non-null    float64\n",
            " 13  horsepower              203 non-null    float64\n",
            " 14  peak_rpm                203 non-null    float64\n",
            " 15  city_mpg                205 non-null    int64  \n",
            " 16  highway_mpg             205 non-null    int64  \n",
            " 17  price                   201 non-null    float64\n",
            " 18  make_alfa_romero        205 non-null    uint8  \n",
            " 19  make_audi               205 non-null    uint8  \n",
            " 20  make_bmw                205 non-null    uint8  \n",
            " 21  make_chevrolet          205 non-null    uint8  \n",
            " 22  make_dodge              205 non-null    uint8  \n",
            " 23  make_honda              205 non-null    uint8  \n",
            " 24  make_isuzu              205 non-null    uint8  \n",
            " 25  make_jaguar             205 non-null    uint8  \n",
            " 26  make_mazda              205 non-null    uint8  \n",
            " 27  make_mercedes_benz      205 non-null    uint8  \n",
            " 28  make_mercury            205 non-null    uint8  \n",
            " 29  make_mitsubishi         205 non-null    uint8  \n",
            " 30  make_nissan             205 non-null    uint8  \n",
            " 31  make_peugot             205 non-null    uint8  \n",
            " 32  make_plymouth           205 non-null    uint8  \n",
            " 33  make_porsche            205 non-null    uint8  \n",
            " 34  make_renault            205 non-null    uint8  \n",
            " 35  make_saab               205 non-null    uint8  \n",
            " 36  make_subaru             205 non-null    uint8  \n",
            " 37  make_toyota             205 non-null    uint8  \n",
            " 38  make_volkswagen         205 non-null    uint8  \n",
            " 39  make_volvo              205 non-null    uint8  \n",
            " 40  fuel_type_diesel        205 non-null    uint8  \n",
            " 41  fuel_type_gas           205 non-null    uint8  \n",
            " 42  aspiration_std          205 non-null    uint8  \n",
            " 43  aspiration_turbo        205 non-null    uint8  \n",
            " 44  body_style_convertible  205 non-null    uint8  \n",
            " 45  body_style_hardtop      205 non-null    uint8  \n",
            " 46  body_style_hatchback    205 non-null    uint8  \n",
            " 47  body_style_sedan        205 non-null    uint8  \n",
            " 48  body_style_wagon        205 non-null    uint8  \n",
            " 49  drive_wheels_4wd        205 non-null    uint8  \n",
            " 50  drive_wheels_fwd        205 non-null    uint8  \n",
            " 51  drive_wheels_rwd        205 non-null    uint8  \n",
            " 52  engine_location_front   205 non-null    uint8  \n",
            " 53  engine_location_rear    205 non-null    uint8  \n",
            " 54  engine_type_dohc        205 non-null    uint8  \n",
            " 55  engine_type_dohcv       205 non-null    uint8  \n",
            " 56  engine_type_l           205 non-null    uint8  \n",
            " 57  engine_type_ohc         205 non-null    uint8  \n",
            " 58  engine_type_ohcf        205 non-null    uint8  \n",
            " 59  engine_type_ohcv        205 non-null    uint8  \n",
            " 60  engine_type_rotor       205 non-null    uint8  \n",
            " 61  fuel_system_1bbl        205 non-null    uint8  \n",
            " 62  fuel_system_2bbl        205 non-null    uint8  \n",
            " 63  fuel_system_4bbl        205 non-null    uint8  \n",
            " 64  fuel_system_idi         205 non-null    uint8  \n",
            " 65  fuel_system_mfi         205 non-null    uint8  \n",
            " 66  fuel_system_mpfi        205 non-null    uint8  \n",
            " 67  fuel_system_spdi        205 non-null    uint8  \n",
            " 68  fuel_system_spfi        205 non-null    uint8  \n",
            "dtypes: float64(11), int64(5), object(2), uint8(51)\n",
            "memory usage: 39.2+ KB\n"
          ],
          "name": "stdout"
        }
      ]
    },
    {
      "cell_type": "markdown",
      "metadata": {
        "id": "Ap7w0043uwgD"
      },
      "source": [
        "### Cambiamos las categorias numericas por el numero correspondiente:"
      ]
    },
    {
      "cell_type": "code",
      "metadata": {
        "id": "gTEKhhpmuxMn"
      },
      "source": [
        "str_to_num = {\"num_of_doors\":     {\"two\": int(2), \"four\": 4},\n",
        "              \"num_of_cylinders\": {\"two\": 2, \"three\": 3, \"four\": 4, \"five\": 5, \"six\": 6, \"eight\": 8, \"twelve\": 12 }}\n",
        "\n",
        "data.replace(str_to_num, inplace=True)"
      ],
      "execution_count": 298,
      "outputs": []
    },
    {
      "cell_type": "markdown",
      "metadata": {
        "id": "ChtKJnFAqW2x"
      },
      "source": [
        "## Valores faltantes (Missing Values)"
      ]
    },
    {
      "cell_type": "markdown",
      "metadata": {
        "id": "rOAyzatLqW2x"
      },
      "source": [
        "### Busqueda de Missings\n",
        "Nuestro dataset ya especicaba los valores missing con un '?'. Podemos verlo en la informacion de nuestro dataframe:"
      ]
    },
    {
      "cell_type": "code",
      "metadata": {
        "colab": {
          "base_uri": "https://localhost:8080/"
        },
        "id": "d7kwFNEjqW2y",
        "outputId": "36b9715c-990b-46f0-a6b4-81c03b5a4dd0"
      },
      "source": [
        "data.info()"
      ],
      "execution_count": 299,
      "outputs": [
        {
          "output_type": "stream",
          "text": [
            "<class 'pandas.core.frame.DataFrame'>\n",
            "RangeIndex: 205 entries, 0 to 204\n",
            "Data columns (total 69 columns):\n",
            " #   Column                  Non-Null Count  Dtype  \n",
            "---  ------                  --------------  -----  \n",
            " 0   symboling               205 non-null    int64  \n",
            " 1   normalized_losses       164 non-null    float64\n",
            " 2   num_of_doors            203 non-null    float64\n",
            " 3   wheel_base              205 non-null    float64\n",
            " 4   length                  205 non-null    float64\n",
            " 5   width                   205 non-null    float64\n",
            " 6   height                  205 non-null    float64\n",
            " 7   curb_weight             205 non-null    int64  \n",
            " 8   num_of_cylinders        205 non-null    int64  \n",
            " 9   engine_size             205 non-null    int64  \n",
            " 10  bore                    201 non-null    float64\n",
            " 11  stroke                  201 non-null    float64\n",
            " 12  compression_ratio       205 non-null    float64\n",
            " 13  horsepower              203 non-null    float64\n",
            " 14  peak_rpm                203 non-null    float64\n",
            " 15  city_mpg                205 non-null    int64  \n",
            " 16  highway_mpg             205 non-null    int64  \n",
            " 17  price                   201 non-null    float64\n",
            " 18  make_alfa_romero        205 non-null    uint8  \n",
            " 19  make_audi               205 non-null    uint8  \n",
            " 20  make_bmw                205 non-null    uint8  \n",
            " 21  make_chevrolet          205 non-null    uint8  \n",
            " 22  make_dodge              205 non-null    uint8  \n",
            " 23  make_honda              205 non-null    uint8  \n",
            " 24  make_isuzu              205 non-null    uint8  \n",
            " 25  make_jaguar             205 non-null    uint8  \n",
            " 26  make_mazda              205 non-null    uint8  \n",
            " 27  make_mercedes_benz      205 non-null    uint8  \n",
            " 28  make_mercury            205 non-null    uint8  \n",
            " 29  make_mitsubishi         205 non-null    uint8  \n",
            " 30  make_nissan             205 non-null    uint8  \n",
            " 31  make_peugot             205 non-null    uint8  \n",
            " 32  make_plymouth           205 non-null    uint8  \n",
            " 33  make_porsche            205 non-null    uint8  \n",
            " 34  make_renault            205 non-null    uint8  \n",
            " 35  make_saab               205 non-null    uint8  \n",
            " 36  make_subaru             205 non-null    uint8  \n",
            " 37  make_toyota             205 non-null    uint8  \n",
            " 38  make_volkswagen         205 non-null    uint8  \n",
            " 39  make_volvo              205 non-null    uint8  \n",
            " 40  fuel_type_diesel        205 non-null    uint8  \n",
            " 41  fuel_type_gas           205 non-null    uint8  \n",
            " 42  aspiration_std          205 non-null    uint8  \n",
            " 43  aspiration_turbo        205 non-null    uint8  \n",
            " 44  body_style_convertible  205 non-null    uint8  \n",
            " 45  body_style_hardtop      205 non-null    uint8  \n",
            " 46  body_style_hatchback    205 non-null    uint8  \n",
            " 47  body_style_sedan        205 non-null    uint8  \n",
            " 48  body_style_wagon        205 non-null    uint8  \n",
            " 49  drive_wheels_4wd        205 non-null    uint8  \n",
            " 50  drive_wheels_fwd        205 non-null    uint8  \n",
            " 51  drive_wheels_rwd        205 non-null    uint8  \n",
            " 52  engine_location_front   205 non-null    uint8  \n",
            " 53  engine_location_rear    205 non-null    uint8  \n",
            " 54  engine_type_dohc        205 non-null    uint8  \n",
            " 55  engine_type_dohcv       205 non-null    uint8  \n",
            " 56  engine_type_l           205 non-null    uint8  \n",
            " 57  engine_type_ohc         205 non-null    uint8  \n",
            " 58  engine_type_ohcf        205 non-null    uint8  \n",
            " 59  engine_type_ohcv        205 non-null    uint8  \n",
            " 60  engine_type_rotor       205 non-null    uint8  \n",
            " 61  fuel_system_1bbl        205 non-null    uint8  \n",
            " 62  fuel_system_2bbl        205 non-null    uint8  \n",
            " 63  fuel_system_4bbl        205 non-null    uint8  \n",
            " 64  fuel_system_idi         205 non-null    uint8  \n",
            " 65  fuel_system_mfi         205 non-null    uint8  \n",
            " 66  fuel_system_mpfi        205 non-null    uint8  \n",
            " 67  fuel_system_spdi        205 non-null    uint8  \n",
            " 68  fuel_system_spfi        205 non-null    uint8  \n",
            "dtypes: float64(12), int64(6), uint8(51)\n",
            "memory usage: 39.2 KB\n"
          ],
          "name": "stdout"
        }
      ]
    },
    {
      "cell_type": "markdown",
      "metadata": {
        "id": "esmQyhjXqW2y"
      },
      "source": [
        "A pesar de ello, creemos adecuado comprobar que no haya valores extranos, como podrian ser ceros donde no deberia, o numeros que puedan parecer un error de medicion como +-999999."
      ]
    },
    {
      "cell_type": "code",
      "metadata": {
        "colab": {
          "base_uri": "https://localhost:8080/",
          "height": 0
        },
        "id": "0oFXprDqqW2y",
        "outputId": "0a5c897b-7bc6-4da4-cddc-ca78a2bb6789"
      },
      "source": [
        "data.describe()"
      ],
      "execution_count": 300,
      "outputs": [
        {
          "output_type": "execute_result",
          "data": {
            "text/html": [
              "<div>\n",
              "<style scoped>\n",
              "    .dataframe tbody tr th:only-of-type {\n",
              "        vertical-align: middle;\n",
              "    }\n",
              "\n",
              "    .dataframe tbody tr th {\n",
              "        vertical-align: top;\n",
              "    }\n",
              "\n",
              "    .dataframe thead th {\n",
              "        text-align: right;\n",
              "    }\n",
              "</style>\n",
              "<table border=\"1\" class=\"dataframe\">\n",
              "  <thead>\n",
              "    <tr style=\"text-align: right;\">\n",
              "      <th></th>\n",
              "      <th>symboling</th>\n",
              "      <th>normalized_losses</th>\n",
              "      <th>num_of_doors</th>\n",
              "      <th>wheel_base</th>\n",
              "      <th>length</th>\n",
              "      <th>width</th>\n",
              "      <th>height</th>\n",
              "      <th>curb_weight</th>\n",
              "      <th>num_of_cylinders</th>\n",
              "      <th>engine_size</th>\n",
              "      <th>bore</th>\n",
              "      <th>stroke</th>\n",
              "      <th>compression_ratio</th>\n",
              "      <th>horsepower</th>\n",
              "      <th>peak_rpm</th>\n",
              "      <th>city_mpg</th>\n",
              "      <th>highway_mpg</th>\n",
              "      <th>price</th>\n",
              "      <th>make_alfa_romero</th>\n",
              "      <th>make_audi</th>\n",
              "      <th>make_bmw</th>\n",
              "      <th>make_chevrolet</th>\n",
              "      <th>make_dodge</th>\n",
              "      <th>make_honda</th>\n",
              "      <th>make_isuzu</th>\n",
              "      <th>make_jaguar</th>\n",
              "      <th>make_mazda</th>\n",
              "      <th>make_mercedes_benz</th>\n",
              "      <th>make_mercury</th>\n",
              "      <th>make_mitsubishi</th>\n",
              "      <th>make_nissan</th>\n",
              "      <th>make_peugot</th>\n",
              "      <th>make_plymouth</th>\n",
              "      <th>make_porsche</th>\n",
              "      <th>make_renault</th>\n",
              "      <th>make_saab</th>\n",
              "      <th>make_subaru</th>\n",
              "      <th>make_toyota</th>\n",
              "      <th>make_volkswagen</th>\n",
              "      <th>make_volvo</th>\n",
              "      <th>fuel_type_diesel</th>\n",
              "      <th>fuel_type_gas</th>\n",
              "      <th>aspiration_std</th>\n",
              "      <th>aspiration_turbo</th>\n",
              "      <th>body_style_convertible</th>\n",
              "      <th>body_style_hardtop</th>\n",
              "      <th>body_style_hatchback</th>\n",
              "      <th>body_style_sedan</th>\n",
              "      <th>body_style_wagon</th>\n",
              "      <th>drive_wheels_4wd</th>\n",
              "      <th>drive_wheels_fwd</th>\n",
              "      <th>drive_wheels_rwd</th>\n",
              "      <th>engine_location_front</th>\n",
              "      <th>engine_location_rear</th>\n",
              "      <th>engine_type_dohc</th>\n",
              "      <th>engine_type_dohcv</th>\n",
              "      <th>engine_type_l</th>\n",
              "      <th>engine_type_ohc</th>\n",
              "      <th>engine_type_ohcf</th>\n",
              "      <th>engine_type_ohcv</th>\n",
              "      <th>engine_type_rotor</th>\n",
              "      <th>fuel_system_1bbl</th>\n",
              "      <th>fuel_system_2bbl</th>\n",
              "      <th>fuel_system_4bbl</th>\n",
              "      <th>fuel_system_idi</th>\n",
              "      <th>fuel_system_mfi</th>\n",
              "      <th>fuel_system_mpfi</th>\n",
              "      <th>fuel_system_spdi</th>\n",
              "      <th>fuel_system_spfi</th>\n",
              "    </tr>\n",
              "  </thead>\n",
              "  <tbody>\n",
              "    <tr>\n",
              "      <th>count</th>\n",
              "      <td>205.000</td>\n",
              "      <td>164.000</td>\n",
              "      <td>203.000</td>\n",
              "      <td>205.000</td>\n",
              "      <td>205.000</td>\n",
              "      <td>205.000</td>\n",
              "      <td>205.000</td>\n",
              "      <td>205.000</td>\n",
              "      <td>205.000</td>\n",
              "      <td>205.000</td>\n",
              "      <td>201.000</td>\n",
              "      <td>201.000</td>\n",
              "      <td>205.000</td>\n",
              "      <td>203.000</td>\n",
              "      <td>203.000</td>\n",
              "      <td>205.000</td>\n",
              "      <td>205.000</td>\n",
              "      <td>201.000</td>\n",
              "      <td>205.000</td>\n",
              "      <td>205.000</td>\n",
              "      <td>205.000</td>\n",
              "      <td>205.000</td>\n",
              "      <td>205.000</td>\n",
              "      <td>205.000</td>\n",
              "      <td>205.000</td>\n",
              "      <td>205.000</td>\n",
              "      <td>205.000</td>\n",
              "      <td>205.000</td>\n",
              "      <td>205.000</td>\n",
              "      <td>205.000</td>\n",
              "      <td>205.000</td>\n",
              "      <td>205.000</td>\n",
              "      <td>205.000</td>\n",
              "      <td>205.000</td>\n",
              "      <td>205.000</td>\n",
              "      <td>205.000</td>\n",
              "      <td>205.000</td>\n",
              "      <td>205.000</td>\n",
              "      <td>205.000</td>\n",
              "      <td>205.000</td>\n",
              "      <td>205.000</td>\n",
              "      <td>205.000</td>\n",
              "      <td>205.000</td>\n",
              "      <td>205.000</td>\n",
              "      <td>205.000</td>\n",
              "      <td>205.000</td>\n",
              "      <td>205.000</td>\n",
              "      <td>205.000</td>\n",
              "      <td>205.000</td>\n",
              "      <td>205.000</td>\n",
              "      <td>205.000</td>\n",
              "      <td>205.000</td>\n",
              "      <td>205.000</td>\n",
              "      <td>205.000</td>\n",
              "      <td>205.000</td>\n",
              "      <td>205.000</td>\n",
              "      <td>205.000</td>\n",
              "      <td>205.000</td>\n",
              "      <td>205.000</td>\n",
              "      <td>205.000</td>\n",
              "      <td>205.000</td>\n",
              "      <td>205.000</td>\n",
              "      <td>205.000</td>\n",
              "      <td>205.000</td>\n",
              "      <td>205.000</td>\n",
              "      <td>205.000</td>\n",
              "      <td>205.000</td>\n",
              "      <td>205.000</td>\n",
              "      <td>205.000</td>\n",
              "    </tr>\n",
              "    <tr>\n",
              "      <th>mean</th>\n",
              "      <td>0.834</td>\n",
              "      <td>122.000</td>\n",
              "      <td>3.123</td>\n",
              "      <td>98.757</td>\n",
              "      <td>174.049</td>\n",
              "      <td>65.908</td>\n",
              "      <td>53.725</td>\n",
              "      <td>2555.566</td>\n",
              "      <td>4.380</td>\n",
              "      <td>126.907</td>\n",
              "      <td>3.330</td>\n",
              "      <td>3.255</td>\n",
              "      <td>10.143</td>\n",
              "      <td>104.256</td>\n",
              "      <td>5125.369</td>\n",
              "      <td>25.220</td>\n",
              "      <td>30.751</td>\n",
              "      <td>13207.129</td>\n",
              "      <td>0.015</td>\n",
              "      <td>0.034</td>\n",
              "      <td>0.039</td>\n",
              "      <td>0.015</td>\n",
              "      <td>0.044</td>\n",
              "      <td>0.063</td>\n",
              "      <td>0.020</td>\n",
              "      <td>0.015</td>\n",
              "      <td>0.083</td>\n",
              "      <td>0.039</td>\n",
              "      <td>0.005</td>\n",
              "      <td>0.063</td>\n",
              "      <td>0.088</td>\n",
              "      <td>0.054</td>\n",
              "      <td>0.034</td>\n",
              "      <td>0.024</td>\n",
              "      <td>0.010</td>\n",
              "      <td>0.029</td>\n",
              "      <td>0.059</td>\n",
              "      <td>0.156</td>\n",
              "      <td>0.059</td>\n",
              "      <td>0.054</td>\n",
              "      <td>0.098</td>\n",
              "      <td>0.902</td>\n",
              "      <td>0.820</td>\n",
              "      <td>0.180</td>\n",
              "      <td>0.029</td>\n",
              "      <td>0.039</td>\n",
              "      <td>0.341</td>\n",
              "      <td>0.468</td>\n",
              "      <td>0.122</td>\n",
              "      <td>0.044</td>\n",
              "      <td>0.585</td>\n",
              "      <td>0.371</td>\n",
              "      <td>0.985</td>\n",
              "      <td>0.015</td>\n",
              "      <td>0.059</td>\n",
              "      <td>0.005</td>\n",
              "      <td>0.059</td>\n",
              "      <td>0.722</td>\n",
              "      <td>0.073</td>\n",
              "      <td>0.063</td>\n",
              "      <td>0.020</td>\n",
              "      <td>0.054</td>\n",
              "      <td>0.322</td>\n",
              "      <td>0.015</td>\n",
              "      <td>0.098</td>\n",
              "      <td>0.005</td>\n",
              "      <td>0.459</td>\n",
              "      <td>0.044</td>\n",
              "      <td>0.005</td>\n",
              "    </tr>\n",
              "    <tr>\n",
              "      <th>std</th>\n",
              "      <td>1.245</td>\n",
              "      <td>35.442</td>\n",
              "      <td>0.995</td>\n",
              "      <td>6.022</td>\n",
              "      <td>12.337</td>\n",
              "      <td>2.145</td>\n",
              "      <td>2.444</td>\n",
              "      <td>520.680</td>\n",
              "      <td>1.081</td>\n",
              "      <td>41.643</td>\n",
              "      <td>0.274</td>\n",
              "      <td>0.317</td>\n",
              "      <td>3.972</td>\n",
              "      <td>39.714</td>\n",
              "      <td>479.335</td>\n",
              "      <td>6.542</td>\n",
              "      <td>6.886</td>\n",
              "      <td>7947.066</td>\n",
              "      <td>0.120</td>\n",
              "      <td>0.182</td>\n",
              "      <td>0.194</td>\n",
              "      <td>0.120</td>\n",
              "      <td>0.205</td>\n",
              "      <td>0.244</td>\n",
              "      <td>0.139</td>\n",
              "      <td>0.120</td>\n",
              "      <td>0.276</td>\n",
              "      <td>0.194</td>\n",
              "      <td>0.070</td>\n",
              "      <td>0.244</td>\n",
              "      <td>0.284</td>\n",
              "      <td>0.226</td>\n",
              "      <td>0.182</td>\n",
              "      <td>0.155</td>\n",
              "      <td>0.099</td>\n",
              "      <td>0.169</td>\n",
              "      <td>0.235</td>\n",
              "      <td>0.364</td>\n",
              "      <td>0.235</td>\n",
              "      <td>0.226</td>\n",
              "      <td>0.297</td>\n",
              "      <td>0.297</td>\n",
              "      <td>0.386</td>\n",
              "      <td>0.386</td>\n",
              "      <td>0.169</td>\n",
              "      <td>0.194</td>\n",
              "      <td>0.475</td>\n",
              "      <td>0.500</td>\n",
              "      <td>0.328</td>\n",
              "      <td>0.205</td>\n",
              "      <td>0.494</td>\n",
              "      <td>0.484</td>\n",
              "      <td>0.120</td>\n",
              "      <td>0.120</td>\n",
              "      <td>0.235</td>\n",
              "      <td>0.070</td>\n",
              "      <td>0.235</td>\n",
              "      <td>0.449</td>\n",
              "      <td>0.261</td>\n",
              "      <td>0.244</td>\n",
              "      <td>0.139</td>\n",
              "      <td>0.226</td>\n",
              "      <td>0.468</td>\n",
              "      <td>0.120</td>\n",
              "      <td>0.297</td>\n",
              "      <td>0.070</td>\n",
              "      <td>0.499</td>\n",
              "      <td>0.205</td>\n",
              "      <td>0.070</td>\n",
              "    </tr>\n",
              "    <tr>\n",
              "      <th>min</th>\n",
              "      <td>-2.000</td>\n",
              "      <td>65.000</td>\n",
              "      <td>2.000</td>\n",
              "      <td>86.600</td>\n",
              "      <td>141.100</td>\n",
              "      <td>60.300</td>\n",
              "      <td>47.800</td>\n",
              "      <td>1488.000</td>\n",
              "      <td>2.000</td>\n",
              "      <td>61.000</td>\n",
              "      <td>2.540</td>\n",
              "      <td>2.070</td>\n",
              "      <td>7.000</td>\n",
              "      <td>48.000</td>\n",
              "      <td>4150.000</td>\n",
              "      <td>13.000</td>\n",
              "      <td>16.000</td>\n",
              "      <td>5118.000</td>\n",
              "      <td>0.000</td>\n",
              "      <td>0.000</td>\n",
              "      <td>0.000</td>\n",
              "      <td>0.000</td>\n",
              "      <td>0.000</td>\n",
              "      <td>0.000</td>\n",
              "      <td>0.000</td>\n",
              "      <td>0.000</td>\n",
              "      <td>0.000</td>\n",
              "      <td>0.000</td>\n",
              "      <td>0.000</td>\n",
              "      <td>0.000</td>\n",
              "      <td>0.000</td>\n",
              "      <td>0.000</td>\n",
              "      <td>0.000</td>\n",
              "      <td>0.000</td>\n",
              "      <td>0.000</td>\n",
              "      <td>0.000</td>\n",
              "      <td>0.000</td>\n",
              "      <td>0.000</td>\n",
              "      <td>0.000</td>\n",
              "      <td>0.000</td>\n",
              "      <td>0.000</td>\n",
              "      <td>0.000</td>\n",
              "      <td>0.000</td>\n",
              "      <td>0.000</td>\n",
              "      <td>0.000</td>\n",
              "      <td>0.000</td>\n",
              "      <td>0.000</td>\n",
              "      <td>0.000</td>\n",
              "      <td>0.000</td>\n",
              "      <td>0.000</td>\n",
              "      <td>0.000</td>\n",
              "      <td>0.000</td>\n",
              "      <td>0.000</td>\n",
              "      <td>0.000</td>\n",
              "      <td>0.000</td>\n",
              "      <td>0.000</td>\n",
              "      <td>0.000</td>\n",
              "      <td>0.000</td>\n",
              "      <td>0.000</td>\n",
              "      <td>0.000</td>\n",
              "      <td>0.000</td>\n",
              "      <td>0.000</td>\n",
              "      <td>0.000</td>\n",
              "      <td>0.000</td>\n",
              "      <td>0.000</td>\n",
              "      <td>0.000</td>\n",
              "      <td>0.000</td>\n",
              "      <td>0.000</td>\n",
              "      <td>0.000</td>\n",
              "    </tr>\n",
              "    <tr>\n",
              "      <th>25%</th>\n",
              "      <td>0.000</td>\n",
              "      <td>94.000</td>\n",
              "      <td>2.000</td>\n",
              "      <td>94.500</td>\n",
              "      <td>166.300</td>\n",
              "      <td>64.100</td>\n",
              "      <td>52.000</td>\n",
              "      <td>2145.000</td>\n",
              "      <td>4.000</td>\n",
              "      <td>97.000</td>\n",
              "      <td>3.150</td>\n",
              "      <td>3.110</td>\n",
              "      <td>8.600</td>\n",
              "      <td>70.000</td>\n",
              "      <td>4800.000</td>\n",
              "      <td>19.000</td>\n",
              "      <td>25.000</td>\n",
              "      <td>7775.000</td>\n",
              "      <td>0.000</td>\n",
              "      <td>0.000</td>\n",
              "      <td>0.000</td>\n",
              "      <td>0.000</td>\n",
              "      <td>0.000</td>\n",
              "      <td>0.000</td>\n",
              "      <td>0.000</td>\n",
              "      <td>0.000</td>\n",
              "      <td>0.000</td>\n",
              "      <td>0.000</td>\n",
              "      <td>0.000</td>\n",
              "      <td>0.000</td>\n",
              "      <td>0.000</td>\n",
              "      <td>0.000</td>\n",
              "      <td>0.000</td>\n",
              "      <td>0.000</td>\n",
              "      <td>0.000</td>\n",
              "      <td>0.000</td>\n",
              "      <td>0.000</td>\n",
              "      <td>0.000</td>\n",
              "      <td>0.000</td>\n",
              "      <td>0.000</td>\n",
              "      <td>0.000</td>\n",
              "      <td>1.000</td>\n",
              "      <td>1.000</td>\n",
              "      <td>0.000</td>\n",
              "      <td>0.000</td>\n",
              "      <td>0.000</td>\n",
              "      <td>0.000</td>\n",
              "      <td>0.000</td>\n",
              "      <td>0.000</td>\n",
              "      <td>0.000</td>\n",
              "      <td>0.000</td>\n",
              "      <td>0.000</td>\n",
              "      <td>1.000</td>\n",
              "      <td>0.000</td>\n",
              "      <td>0.000</td>\n",
              "      <td>0.000</td>\n",
              "      <td>0.000</td>\n",
              "      <td>0.000</td>\n",
              "      <td>0.000</td>\n",
              "      <td>0.000</td>\n",
              "      <td>0.000</td>\n",
              "      <td>0.000</td>\n",
              "      <td>0.000</td>\n",
              "      <td>0.000</td>\n",
              "      <td>0.000</td>\n",
              "      <td>0.000</td>\n",
              "      <td>0.000</td>\n",
              "      <td>0.000</td>\n",
              "      <td>0.000</td>\n",
              "    </tr>\n",
              "    <tr>\n",
              "      <th>50%</th>\n",
              "      <td>1.000</td>\n",
              "      <td>115.000</td>\n",
              "      <td>4.000</td>\n",
              "      <td>97.000</td>\n",
              "      <td>173.200</td>\n",
              "      <td>65.500</td>\n",
              "      <td>54.100</td>\n",
              "      <td>2414.000</td>\n",
              "      <td>4.000</td>\n",
              "      <td>120.000</td>\n",
              "      <td>3.310</td>\n",
              "      <td>3.290</td>\n",
              "      <td>9.000</td>\n",
              "      <td>95.000</td>\n",
              "      <td>5200.000</td>\n",
              "      <td>24.000</td>\n",
              "      <td>30.000</td>\n",
              "      <td>10295.000</td>\n",
              "      <td>0.000</td>\n",
              "      <td>0.000</td>\n",
              "      <td>0.000</td>\n",
              "      <td>0.000</td>\n",
              "      <td>0.000</td>\n",
              "      <td>0.000</td>\n",
              "      <td>0.000</td>\n",
              "      <td>0.000</td>\n",
              "      <td>0.000</td>\n",
              "      <td>0.000</td>\n",
              "      <td>0.000</td>\n",
              "      <td>0.000</td>\n",
              "      <td>0.000</td>\n",
              "      <td>0.000</td>\n",
              "      <td>0.000</td>\n",
              "      <td>0.000</td>\n",
              "      <td>0.000</td>\n",
              "      <td>0.000</td>\n",
              "      <td>0.000</td>\n",
              "      <td>0.000</td>\n",
              "      <td>0.000</td>\n",
              "      <td>0.000</td>\n",
              "      <td>0.000</td>\n",
              "      <td>1.000</td>\n",
              "      <td>1.000</td>\n",
              "      <td>0.000</td>\n",
              "      <td>0.000</td>\n",
              "      <td>0.000</td>\n",
              "      <td>0.000</td>\n",
              "      <td>0.000</td>\n",
              "      <td>0.000</td>\n",
              "      <td>0.000</td>\n",
              "      <td>1.000</td>\n",
              "      <td>0.000</td>\n",
              "      <td>1.000</td>\n",
              "      <td>0.000</td>\n",
              "      <td>0.000</td>\n",
              "      <td>0.000</td>\n",
              "      <td>0.000</td>\n",
              "      <td>1.000</td>\n",
              "      <td>0.000</td>\n",
              "      <td>0.000</td>\n",
              "      <td>0.000</td>\n",
              "      <td>0.000</td>\n",
              "      <td>0.000</td>\n",
              "      <td>0.000</td>\n",
              "      <td>0.000</td>\n",
              "      <td>0.000</td>\n",
              "      <td>0.000</td>\n",
              "      <td>0.000</td>\n",
              "      <td>0.000</td>\n",
              "    </tr>\n",
              "    <tr>\n",
              "      <th>75%</th>\n",
              "      <td>2.000</td>\n",
              "      <td>150.000</td>\n",
              "      <td>4.000</td>\n",
              "      <td>102.400</td>\n",
              "      <td>183.100</td>\n",
              "      <td>66.900</td>\n",
              "      <td>55.500</td>\n",
              "      <td>2935.000</td>\n",
              "      <td>4.000</td>\n",
              "      <td>141.000</td>\n",
              "      <td>3.590</td>\n",
              "      <td>3.410</td>\n",
              "      <td>9.400</td>\n",
              "      <td>116.000</td>\n",
              "      <td>5500.000</td>\n",
              "      <td>30.000</td>\n",
              "      <td>34.000</td>\n",
              "      <td>16500.000</td>\n",
              "      <td>0.000</td>\n",
              "      <td>0.000</td>\n",
              "      <td>0.000</td>\n",
              "      <td>0.000</td>\n",
              "      <td>0.000</td>\n",
              "      <td>0.000</td>\n",
              "      <td>0.000</td>\n",
              "      <td>0.000</td>\n",
              "      <td>0.000</td>\n",
              "      <td>0.000</td>\n",
              "      <td>0.000</td>\n",
              "      <td>0.000</td>\n",
              "      <td>0.000</td>\n",
              "      <td>0.000</td>\n",
              "      <td>0.000</td>\n",
              "      <td>0.000</td>\n",
              "      <td>0.000</td>\n",
              "      <td>0.000</td>\n",
              "      <td>0.000</td>\n",
              "      <td>0.000</td>\n",
              "      <td>0.000</td>\n",
              "      <td>0.000</td>\n",
              "      <td>0.000</td>\n",
              "      <td>1.000</td>\n",
              "      <td>1.000</td>\n",
              "      <td>0.000</td>\n",
              "      <td>0.000</td>\n",
              "      <td>0.000</td>\n",
              "      <td>1.000</td>\n",
              "      <td>1.000</td>\n",
              "      <td>0.000</td>\n",
              "      <td>0.000</td>\n",
              "      <td>1.000</td>\n",
              "      <td>1.000</td>\n",
              "      <td>1.000</td>\n",
              "      <td>0.000</td>\n",
              "      <td>0.000</td>\n",
              "      <td>0.000</td>\n",
              "      <td>0.000</td>\n",
              "      <td>1.000</td>\n",
              "      <td>0.000</td>\n",
              "      <td>0.000</td>\n",
              "      <td>0.000</td>\n",
              "      <td>0.000</td>\n",
              "      <td>1.000</td>\n",
              "      <td>0.000</td>\n",
              "      <td>0.000</td>\n",
              "      <td>0.000</td>\n",
              "      <td>1.000</td>\n",
              "      <td>0.000</td>\n",
              "      <td>0.000</td>\n",
              "    </tr>\n",
              "    <tr>\n",
              "      <th>max</th>\n",
              "      <td>3.000</td>\n",
              "      <td>256.000</td>\n",
              "      <td>4.000</td>\n",
              "      <td>120.900</td>\n",
              "      <td>208.100</td>\n",
              "      <td>72.300</td>\n",
              "      <td>59.800</td>\n",
              "      <td>4066.000</td>\n",
              "      <td>12.000</td>\n",
              "      <td>326.000</td>\n",
              "      <td>3.940</td>\n",
              "      <td>4.170</td>\n",
              "      <td>23.000</td>\n",
              "      <td>288.000</td>\n",
              "      <td>6600.000</td>\n",
              "      <td>49.000</td>\n",
              "      <td>54.000</td>\n",
              "      <td>45400.000</td>\n",
              "      <td>1.000</td>\n",
              "      <td>1.000</td>\n",
              "      <td>1.000</td>\n",
              "      <td>1.000</td>\n",
              "      <td>1.000</td>\n",
              "      <td>1.000</td>\n",
              "      <td>1.000</td>\n",
              "      <td>1.000</td>\n",
              "      <td>1.000</td>\n",
              "      <td>1.000</td>\n",
              "      <td>1.000</td>\n",
              "      <td>1.000</td>\n",
              "      <td>1.000</td>\n",
              "      <td>1.000</td>\n",
              "      <td>1.000</td>\n",
              "      <td>1.000</td>\n",
              "      <td>1.000</td>\n",
              "      <td>1.000</td>\n",
              "      <td>1.000</td>\n",
              "      <td>1.000</td>\n",
              "      <td>1.000</td>\n",
              "      <td>1.000</td>\n",
              "      <td>1.000</td>\n",
              "      <td>1.000</td>\n",
              "      <td>1.000</td>\n",
              "      <td>1.000</td>\n",
              "      <td>1.000</td>\n",
              "      <td>1.000</td>\n",
              "      <td>1.000</td>\n",
              "      <td>1.000</td>\n",
              "      <td>1.000</td>\n",
              "      <td>1.000</td>\n",
              "      <td>1.000</td>\n",
              "      <td>1.000</td>\n",
              "      <td>1.000</td>\n",
              "      <td>1.000</td>\n",
              "      <td>1.000</td>\n",
              "      <td>1.000</td>\n",
              "      <td>1.000</td>\n",
              "      <td>1.000</td>\n",
              "      <td>1.000</td>\n",
              "      <td>1.000</td>\n",
              "      <td>1.000</td>\n",
              "      <td>1.000</td>\n",
              "      <td>1.000</td>\n",
              "      <td>1.000</td>\n",
              "      <td>1.000</td>\n",
              "      <td>1.000</td>\n",
              "      <td>1.000</td>\n",
              "      <td>1.000</td>\n",
              "      <td>1.000</td>\n",
              "    </tr>\n",
              "  </tbody>\n",
              "</table>\n",
              "</div>"
            ],
            "text/plain": [
              "       symboling  normalized_losses  ...  fuel_system_spdi  fuel_system_spfi\n",
              "count    205.000            164.000  ...           205.000           205.000\n",
              "mean       0.834            122.000  ...             0.044             0.005\n",
              "std        1.245             35.442  ...             0.205             0.070\n",
              "min       -2.000             65.000  ...             0.000             0.000\n",
              "25%        0.000             94.000  ...             0.000             0.000\n",
              "50%        1.000            115.000  ...             0.000             0.000\n",
              "75%        2.000            150.000  ...             0.000             0.000\n",
              "max        3.000            256.000  ...             1.000             1.000\n",
              "\n",
              "[8 rows x 69 columns]"
            ]
          },
          "metadata": {
            "tags": []
          },
          "execution_count": 300
        }
      ]
    },
    {
      "cell_type": "markdown",
      "metadata": {
        "id": "3LOMI4heqW2z"
      },
      "source": [
        "Vemos que tanto los minimos como los maximos de todas las variables continuas no parecen ser errores, sino datos reales."
      ]
    },
    {
      "cell_type": "markdown",
      "metadata": {
        "id": "Vg0vC8NEqW2z"
      },
      "source": [
        "### Tratamiento de Missings\n",
        "\n",
        "Dependiendo que atributo sea el que contiene missing values, y que cantidad haya de estos, actuaremos de una manera u otra:"
      ]
    },
    {
      "cell_type": "markdown",
      "metadata": {
        "id": "NjeRkAuDqW2z"
      },
      "source": [
        "#### 'Price'\n",
        "Dado que el objetivo es hacer regresion sobre el atributo 'price', creemos conveniente eliminar las 4 filas que no contienen este atributo, ya que son pocas y creemos que no merece la pena imputar valores que luego vamos a intentar predecir, ya sea para fase de training o de test."
      ]
    },
    {
      "cell_type": "code",
      "metadata": {
        "colab": {
          "base_uri": "https://localhost:8080/"
        },
        "id": "vmhZVWXDqW2z",
        "outputId": "8a06185e-dfe2-4e5c-e6ec-53861a6d8eaa"
      },
      "source": [
        "data = data[~data['price'].isnull()]\n",
        "data.info()"
      ],
      "execution_count": 301,
      "outputs": [
        {
          "output_type": "stream",
          "text": [
            "<class 'pandas.core.frame.DataFrame'>\n",
            "Int64Index: 201 entries, 0 to 204\n",
            "Data columns (total 69 columns):\n",
            " #   Column                  Non-Null Count  Dtype  \n",
            "---  ------                  --------------  -----  \n",
            " 0   symboling               201 non-null    int64  \n",
            " 1   normalized_losses       164 non-null    float64\n",
            " 2   num_of_doors            199 non-null    float64\n",
            " 3   wheel_base              201 non-null    float64\n",
            " 4   length                  201 non-null    float64\n",
            " 5   width                   201 non-null    float64\n",
            " 6   height                  201 non-null    float64\n",
            " 7   curb_weight             201 non-null    int64  \n",
            " 8   num_of_cylinders        201 non-null    int64  \n",
            " 9   engine_size             201 non-null    int64  \n",
            " 10  bore                    197 non-null    float64\n",
            " 11  stroke                  197 non-null    float64\n",
            " 12  compression_ratio       201 non-null    float64\n",
            " 13  horsepower              199 non-null    float64\n",
            " 14  peak_rpm                199 non-null    float64\n",
            " 15  city_mpg                201 non-null    int64  \n",
            " 16  highway_mpg             201 non-null    int64  \n",
            " 17  price                   201 non-null    float64\n",
            " 18  make_alfa_romero        201 non-null    uint8  \n",
            " 19  make_audi               201 non-null    uint8  \n",
            " 20  make_bmw                201 non-null    uint8  \n",
            " 21  make_chevrolet          201 non-null    uint8  \n",
            " 22  make_dodge              201 non-null    uint8  \n",
            " 23  make_honda              201 non-null    uint8  \n",
            " 24  make_isuzu              201 non-null    uint8  \n",
            " 25  make_jaguar             201 non-null    uint8  \n",
            " 26  make_mazda              201 non-null    uint8  \n",
            " 27  make_mercedes_benz      201 non-null    uint8  \n",
            " 28  make_mercury            201 non-null    uint8  \n",
            " 29  make_mitsubishi         201 non-null    uint8  \n",
            " 30  make_nissan             201 non-null    uint8  \n",
            " 31  make_peugot             201 non-null    uint8  \n",
            " 32  make_plymouth           201 non-null    uint8  \n",
            " 33  make_porsche            201 non-null    uint8  \n",
            " 34  make_renault            201 non-null    uint8  \n",
            " 35  make_saab               201 non-null    uint8  \n",
            " 36  make_subaru             201 non-null    uint8  \n",
            " 37  make_toyota             201 non-null    uint8  \n",
            " 38  make_volkswagen         201 non-null    uint8  \n",
            " 39  make_volvo              201 non-null    uint8  \n",
            " 40  fuel_type_diesel        201 non-null    uint8  \n",
            " 41  fuel_type_gas           201 non-null    uint8  \n",
            " 42  aspiration_std          201 non-null    uint8  \n",
            " 43  aspiration_turbo        201 non-null    uint8  \n",
            " 44  body_style_convertible  201 non-null    uint8  \n",
            " 45  body_style_hardtop      201 non-null    uint8  \n",
            " 46  body_style_hatchback    201 non-null    uint8  \n",
            " 47  body_style_sedan        201 non-null    uint8  \n",
            " 48  body_style_wagon        201 non-null    uint8  \n",
            " 49  drive_wheels_4wd        201 non-null    uint8  \n",
            " 50  drive_wheels_fwd        201 non-null    uint8  \n",
            " 51  drive_wheels_rwd        201 non-null    uint8  \n",
            " 52  engine_location_front   201 non-null    uint8  \n",
            " 53  engine_location_rear    201 non-null    uint8  \n",
            " 54  engine_type_dohc        201 non-null    uint8  \n",
            " 55  engine_type_dohcv       201 non-null    uint8  \n",
            " 56  engine_type_l           201 non-null    uint8  \n",
            " 57  engine_type_ohc         201 non-null    uint8  \n",
            " 58  engine_type_ohcf        201 non-null    uint8  \n",
            " 59  engine_type_ohcv        201 non-null    uint8  \n",
            " 60  engine_type_rotor       201 non-null    uint8  \n",
            " 61  fuel_system_1bbl        201 non-null    uint8  \n",
            " 62  fuel_system_2bbl        201 non-null    uint8  \n",
            " 63  fuel_system_4bbl        201 non-null    uint8  \n",
            " 64  fuel_system_idi         201 non-null    uint8  \n",
            " 65  fuel_system_mfi         201 non-null    uint8  \n",
            " 66  fuel_system_mpfi        201 non-null    uint8  \n",
            " 67  fuel_system_spdi        201 non-null    uint8  \n",
            " 68  fuel_system_spfi        201 non-null    uint8  \n",
            "dtypes: float64(12), int64(6), uint8(51)\n",
            "memory usage: 39.8 KB\n"
          ],
          "name": "stdout"
        }
      ]
    },
    {
      "cell_type": "markdown",
      "metadata": {
        "id": "DiWnC1sFqW20"
      },
      "source": [
        "#### Marca Renault\n",
        "Nos hemos dado cuenta de que los unicos dos coches de la marca Renault, tienen missings, en 3 de sus columnas. Creemos que es adecuado eliminar estas 2 filas ya que desde nuestro punto de vista, les falta demasiada informacion y ambas conforman una marca completa. Es decir, imputar estas 3 columnas, influira directamente sobre cualquier prediccion de la marca Renault, y creemos que 2 filas son pocas y podemos tolerar eliminarlas."
      ]
    },
    {
      "cell_type": "code",
      "metadata": {
        "colab": {
          "base_uri": "https://localhost:8080/"
        },
        "id": "ivBA7VWGqW20",
        "outputId": "6fd8560e-01a5-46c4-9c15-2d9b244918bb"
      },
      "source": [
        "data[data['make_renault'] == 1].info()\n",
        "data = data[data['make_renault'] == 0]\n",
        "data.drop(columns=['make_renault'], inplace=True)"
      ],
      "execution_count": 302,
      "outputs": [
        {
          "output_type": "stream",
          "text": [
            "<class 'pandas.core.frame.DataFrame'>\n",
            "Int64Index: 2 entries, 130 to 131\n",
            "Data columns (total 69 columns):\n",
            " #   Column                  Non-Null Count  Dtype  \n",
            "---  ------                  --------------  -----  \n",
            " 0   symboling               2 non-null      int64  \n",
            " 1   normalized_losses       0 non-null      float64\n",
            " 2   num_of_doors            2 non-null      float64\n",
            " 3   wheel_base              2 non-null      float64\n",
            " 4   length                  2 non-null      float64\n",
            " 5   width                   2 non-null      float64\n",
            " 6   height                  2 non-null      float64\n",
            " 7   curb_weight             2 non-null      int64  \n",
            " 8   num_of_cylinders        2 non-null      int64  \n",
            " 9   engine_size             2 non-null      int64  \n",
            " 10  bore                    2 non-null      float64\n",
            " 11  stroke                  2 non-null      float64\n",
            " 12  compression_ratio       2 non-null      float64\n",
            " 13  horsepower              0 non-null      float64\n",
            " 14  peak_rpm                0 non-null      float64\n",
            " 15  city_mpg                2 non-null      int64  \n",
            " 16  highway_mpg             2 non-null      int64  \n",
            " 17  price                   2 non-null      float64\n",
            " 18  make_alfa_romero        2 non-null      uint8  \n",
            " 19  make_audi               2 non-null      uint8  \n",
            " 20  make_bmw                2 non-null      uint8  \n",
            " 21  make_chevrolet          2 non-null      uint8  \n",
            " 22  make_dodge              2 non-null      uint8  \n",
            " 23  make_honda              2 non-null      uint8  \n",
            " 24  make_isuzu              2 non-null      uint8  \n",
            " 25  make_jaguar             2 non-null      uint8  \n",
            " 26  make_mazda              2 non-null      uint8  \n",
            " 27  make_mercedes_benz      2 non-null      uint8  \n",
            " 28  make_mercury            2 non-null      uint8  \n",
            " 29  make_mitsubishi         2 non-null      uint8  \n",
            " 30  make_nissan             2 non-null      uint8  \n",
            " 31  make_peugot             2 non-null      uint8  \n",
            " 32  make_plymouth           2 non-null      uint8  \n",
            " 33  make_porsche            2 non-null      uint8  \n",
            " 34  make_renault            2 non-null      uint8  \n",
            " 35  make_saab               2 non-null      uint8  \n",
            " 36  make_subaru             2 non-null      uint8  \n",
            " 37  make_toyota             2 non-null      uint8  \n",
            " 38  make_volkswagen         2 non-null      uint8  \n",
            " 39  make_volvo              2 non-null      uint8  \n",
            " 40  fuel_type_diesel        2 non-null      uint8  \n",
            " 41  fuel_type_gas           2 non-null      uint8  \n",
            " 42  aspiration_std          2 non-null      uint8  \n",
            " 43  aspiration_turbo        2 non-null      uint8  \n",
            " 44  body_style_convertible  2 non-null      uint8  \n",
            " 45  body_style_hardtop      2 non-null      uint8  \n",
            " 46  body_style_hatchback    2 non-null      uint8  \n",
            " 47  body_style_sedan        2 non-null      uint8  \n",
            " 48  body_style_wagon        2 non-null      uint8  \n",
            " 49  drive_wheels_4wd        2 non-null      uint8  \n",
            " 50  drive_wheels_fwd        2 non-null      uint8  \n",
            " 51  drive_wheels_rwd        2 non-null      uint8  \n",
            " 52  engine_location_front   2 non-null      uint8  \n",
            " 53  engine_location_rear    2 non-null      uint8  \n",
            " 54  engine_type_dohc        2 non-null      uint8  \n",
            " 55  engine_type_dohcv       2 non-null      uint8  \n",
            " 56  engine_type_l           2 non-null      uint8  \n",
            " 57  engine_type_ohc         2 non-null      uint8  \n",
            " 58  engine_type_ohcf        2 non-null      uint8  \n",
            " 59  engine_type_ohcv        2 non-null      uint8  \n",
            " 60  engine_type_rotor       2 non-null      uint8  \n",
            " 61  fuel_system_1bbl        2 non-null      uint8  \n",
            " 62  fuel_system_2bbl        2 non-null      uint8  \n",
            " 63  fuel_system_4bbl        2 non-null      uint8  \n",
            " 64  fuel_system_idi         2 non-null      uint8  \n",
            " 65  fuel_system_mfi         2 non-null      uint8  \n",
            " 66  fuel_system_mpfi        2 non-null      uint8  \n",
            " 67  fuel_system_spdi        2 non-null      uint8  \n",
            " 68  fuel_system_spfi        2 non-null      uint8  \n",
            "dtypes: float64(12), int64(6), uint8(51)\n",
            "memory usage: 406.0 bytes\n"
          ],
          "name": "stdout"
        }
      ]
    },
    {
      "cell_type": "markdown",
      "metadata": {
        "id": "0Ld9b03VqW20"
      },
      "source": [
        "#### Motores rotativos\n",
        "El dataset cuenta con unos coches con un motor muy peculiar de la marca Mazda. Este motor, conocido como motor Wankel es de tipo rotativo , es decir, genera energia cinetica de forma rotativa directamente sin hacer uso de pistones lineales. Esto es importanto porque, al no contar con pistones, no contamos con los datos 'bore' y 'stroke' (calibre y carrera), ya que son caracteristicas propias de los pistones. Eso explica los missing values en estos datos. "
      ]
    },
    {
      "cell_type": "code",
      "metadata": {
        "colab": {
          "base_uri": "https://localhost:8080/"
        },
        "id": "psQIvqRZqW20",
        "outputId": "483bbcec-3ffa-4824-cc4a-6785754c50bb"
      },
      "source": [
        "data.info()\n",
        "data[data['engine_type_rotor'] == 1].info()"
      ],
      "execution_count": 303,
      "outputs": [
        {
          "output_type": "stream",
          "text": [
            "<class 'pandas.core.frame.DataFrame'>\n",
            "Int64Index: 199 entries, 0 to 204\n",
            "Data columns (total 68 columns):\n",
            " #   Column                  Non-Null Count  Dtype  \n",
            "---  ------                  --------------  -----  \n",
            " 0   symboling               199 non-null    int64  \n",
            " 1   normalized_losses       164 non-null    float64\n",
            " 2   num_of_doors            197 non-null    float64\n",
            " 3   wheel_base              199 non-null    float64\n",
            " 4   length                  199 non-null    float64\n",
            " 5   width                   199 non-null    float64\n",
            " 6   height                  199 non-null    float64\n",
            " 7   curb_weight             199 non-null    int64  \n",
            " 8   num_of_cylinders        199 non-null    int64  \n",
            " 9   engine_size             199 non-null    int64  \n",
            " 10  bore                    195 non-null    float64\n",
            " 11  stroke                  195 non-null    float64\n",
            " 12  compression_ratio       199 non-null    float64\n",
            " 13  horsepower              199 non-null    float64\n",
            " 14  peak_rpm                199 non-null    float64\n",
            " 15  city_mpg                199 non-null    int64  \n",
            " 16  highway_mpg             199 non-null    int64  \n",
            " 17  price                   199 non-null    float64\n",
            " 18  make_alfa_romero        199 non-null    uint8  \n",
            " 19  make_audi               199 non-null    uint8  \n",
            " 20  make_bmw                199 non-null    uint8  \n",
            " 21  make_chevrolet          199 non-null    uint8  \n",
            " 22  make_dodge              199 non-null    uint8  \n",
            " 23  make_honda              199 non-null    uint8  \n",
            " 24  make_isuzu              199 non-null    uint8  \n",
            " 25  make_jaguar             199 non-null    uint8  \n",
            " 26  make_mazda              199 non-null    uint8  \n",
            " 27  make_mercedes_benz      199 non-null    uint8  \n",
            " 28  make_mercury            199 non-null    uint8  \n",
            " 29  make_mitsubishi         199 non-null    uint8  \n",
            " 30  make_nissan             199 non-null    uint8  \n",
            " 31  make_peugot             199 non-null    uint8  \n",
            " 32  make_plymouth           199 non-null    uint8  \n",
            " 33  make_porsche            199 non-null    uint8  \n",
            " 34  make_saab               199 non-null    uint8  \n",
            " 35  make_subaru             199 non-null    uint8  \n",
            " 36  make_toyota             199 non-null    uint8  \n",
            " 37  make_volkswagen         199 non-null    uint8  \n",
            " 38  make_volvo              199 non-null    uint8  \n",
            " 39  fuel_type_diesel        199 non-null    uint8  \n",
            " 40  fuel_type_gas           199 non-null    uint8  \n",
            " 41  aspiration_std          199 non-null    uint8  \n",
            " 42  aspiration_turbo        199 non-null    uint8  \n",
            " 43  body_style_convertible  199 non-null    uint8  \n",
            " 44  body_style_hardtop      199 non-null    uint8  \n",
            " 45  body_style_hatchback    199 non-null    uint8  \n",
            " 46  body_style_sedan        199 non-null    uint8  \n",
            " 47  body_style_wagon        199 non-null    uint8  \n",
            " 48  drive_wheels_4wd        199 non-null    uint8  \n",
            " 49  drive_wheels_fwd        199 non-null    uint8  \n",
            " 50  drive_wheels_rwd        199 non-null    uint8  \n",
            " 51  engine_location_front   199 non-null    uint8  \n",
            " 52  engine_location_rear    199 non-null    uint8  \n",
            " 53  engine_type_dohc        199 non-null    uint8  \n",
            " 54  engine_type_dohcv       199 non-null    uint8  \n",
            " 55  engine_type_l           199 non-null    uint8  \n",
            " 56  engine_type_ohc         199 non-null    uint8  \n",
            " 57  engine_type_ohcf        199 non-null    uint8  \n",
            " 58  engine_type_ohcv        199 non-null    uint8  \n",
            " 59  engine_type_rotor       199 non-null    uint8  \n",
            " 60  fuel_system_1bbl        199 non-null    uint8  \n",
            " 61  fuel_system_2bbl        199 non-null    uint8  \n",
            " 62  fuel_system_4bbl        199 non-null    uint8  \n",
            " 63  fuel_system_idi         199 non-null    uint8  \n",
            " 64  fuel_system_mfi         199 non-null    uint8  \n",
            " 65  fuel_system_mpfi        199 non-null    uint8  \n",
            " 66  fuel_system_spdi        199 non-null    uint8  \n",
            " 67  fuel_system_spfi        199 non-null    uint8  \n",
            "dtypes: float64(12), int64(6), uint8(50)\n",
            "memory usage: 39.3 KB\n",
            "<class 'pandas.core.frame.DataFrame'>\n",
            "Int64Index: 4 entries, 55 to 58\n",
            "Data columns (total 68 columns):\n",
            " #   Column                  Non-Null Count  Dtype  \n",
            "---  ------                  --------------  -----  \n",
            " 0   symboling               4 non-null      int64  \n",
            " 1   normalized_losses       4 non-null      float64\n",
            " 2   num_of_doors            4 non-null      float64\n",
            " 3   wheel_base              4 non-null      float64\n",
            " 4   length                  4 non-null      float64\n",
            " 5   width                   4 non-null      float64\n",
            " 6   height                  4 non-null      float64\n",
            " 7   curb_weight             4 non-null      int64  \n",
            " 8   num_of_cylinders        4 non-null      int64  \n",
            " 9   engine_size             4 non-null      int64  \n",
            " 10  bore                    0 non-null      float64\n",
            " 11  stroke                  0 non-null      float64\n",
            " 12  compression_ratio       4 non-null      float64\n",
            " 13  horsepower              4 non-null      float64\n",
            " 14  peak_rpm                4 non-null      float64\n",
            " 15  city_mpg                4 non-null      int64  \n",
            " 16  highway_mpg             4 non-null      int64  \n",
            " 17  price                   4 non-null      float64\n",
            " 18  make_alfa_romero        4 non-null      uint8  \n",
            " 19  make_audi               4 non-null      uint8  \n",
            " 20  make_bmw                4 non-null      uint8  \n",
            " 21  make_chevrolet          4 non-null      uint8  \n",
            " 22  make_dodge              4 non-null      uint8  \n",
            " 23  make_honda              4 non-null      uint8  \n",
            " 24  make_isuzu              4 non-null      uint8  \n",
            " 25  make_jaguar             4 non-null      uint8  \n",
            " 26  make_mazda              4 non-null      uint8  \n",
            " 27  make_mercedes_benz      4 non-null      uint8  \n",
            " 28  make_mercury            4 non-null      uint8  \n",
            " 29  make_mitsubishi         4 non-null      uint8  \n",
            " 30  make_nissan             4 non-null      uint8  \n",
            " 31  make_peugot             4 non-null      uint8  \n",
            " 32  make_plymouth           4 non-null      uint8  \n",
            " 33  make_porsche            4 non-null      uint8  \n",
            " 34  make_saab               4 non-null      uint8  \n",
            " 35  make_subaru             4 non-null      uint8  \n",
            " 36  make_toyota             4 non-null      uint8  \n",
            " 37  make_volkswagen         4 non-null      uint8  \n",
            " 38  make_volvo              4 non-null      uint8  \n",
            " 39  fuel_type_diesel        4 non-null      uint8  \n",
            " 40  fuel_type_gas           4 non-null      uint8  \n",
            " 41  aspiration_std          4 non-null      uint8  \n",
            " 42  aspiration_turbo        4 non-null      uint8  \n",
            " 43  body_style_convertible  4 non-null      uint8  \n",
            " 44  body_style_hardtop      4 non-null      uint8  \n",
            " 45  body_style_hatchback    4 non-null      uint8  \n",
            " 46  body_style_sedan        4 non-null      uint8  \n",
            " 47  body_style_wagon        4 non-null      uint8  \n",
            " 48  drive_wheels_4wd        4 non-null      uint8  \n",
            " 49  drive_wheels_fwd        4 non-null      uint8  \n",
            " 50  drive_wheels_rwd        4 non-null      uint8  \n",
            " 51  engine_location_front   4 non-null      uint8  \n",
            " 52  engine_location_rear    4 non-null      uint8  \n",
            " 53  engine_type_dohc        4 non-null      uint8  \n",
            " 54  engine_type_dohcv       4 non-null      uint8  \n",
            " 55  engine_type_l           4 non-null      uint8  \n",
            " 56  engine_type_ohc         4 non-null      uint8  \n",
            " 57  engine_type_ohcf        4 non-null      uint8  \n",
            " 58  engine_type_ohcv        4 non-null      uint8  \n",
            " 59  engine_type_rotor       4 non-null      uint8  \n",
            " 60  fuel_system_1bbl        4 non-null      uint8  \n",
            " 61  fuel_system_2bbl        4 non-null      uint8  \n",
            " 62  fuel_system_4bbl        4 non-null      uint8  \n",
            " 63  fuel_system_idi         4 non-null      uint8  \n",
            " 64  fuel_system_mfi         4 non-null      uint8  \n",
            " 65  fuel_system_mpfi        4 non-null      uint8  \n",
            " 66  fuel_system_spdi        4 non-null      uint8  \n",
            " 67  fuel_system_spfi        4 non-null      uint8  \n",
            "dtypes: float64(12), int64(6), uint8(50)\n",
            "memory usage: 808.0 bytes\n"
          ],
          "name": "stdout"
        }
      ]
    },
    {
      "cell_type": "markdown",
      "metadata": {
        "id": "ardBGmt9qW20"
      },
      "source": [
        "Podemos ver que todos los missings de 'bore' y de 'stroke' son de los motores rotativos. Procedemos a ponerlos todos a 0 ya que consideramos que el recorrido y el calibre es nulo:"
      ]
    },
    {
      "cell_type": "code",
      "metadata": {
        "colab": {
          "base_uri": "https://localhost:8080/"
        },
        "id": "HU_0OKOgqW21",
        "outputId": "37a3ca91-f145-4c66-b9c0-0e17a6b3648e"
      },
      "source": [
        "data['bore'].fillna(0, inplace=True)\n",
        "data['stroke'].fillna(0, inplace=True)\n",
        "data.info()"
      ],
      "execution_count": 304,
      "outputs": [
        {
          "output_type": "stream",
          "text": [
            "<class 'pandas.core.frame.DataFrame'>\n",
            "Int64Index: 199 entries, 0 to 204\n",
            "Data columns (total 68 columns):\n",
            " #   Column                  Non-Null Count  Dtype  \n",
            "---  ------                  --------------  -----  \n",
            " 0   symboling               199 non-null    int64  \n",
            " 1   normalized_losses       164 non-null    float64\n",
            " 2   num_of_doors            197 non-null    float64\n",
            " 3   wheel_base              199 non-null    float64\n",
            " 4   length                  199 non-null    float64\n",
            " 5   width                   199 non-null    float64\n",
            " 6   height                  199 non-null    float64\n",
            " 7   curb_weight             199 non-null    int64  \n",
            " 8   num_of_cylinders        199 non-null    int64  \n",
            " 9   engine_size             199 non-null    int64  \n",
            " 10  bore                    199 non-null    float64\n",
            " 11  stroke                  199 non-null    float64\n",
            " 12  compression_ratio       199 non-null    float64\n",
            " 13  horsepower              199 non-null    float64\n",
            " 14  peak_rpm                199 non-null    float64\n",
            " 15  city_mpg                199 non-null    int64  \n",
            " 16  highway_mpg             199 non-null    int64  \n",
            " 17  price                   199 non-null    float64\n",
            " 18  make_alfa_romero        199 non-null    uint8  \n",
            " 19  make_audi               199 non-null    uint8  \n",
            " 20  make_bmw                199 non-null    uint8  \n",
            " 21  make_chevrolet          199 non-null    uint8  \n",
            " 22  make_dodge              199 non-null    uint8  \n",
            " 23  make_honda              199 non-null    uint8  \n",
            " 24  make_isuzu              199 non-null    uint8  \n",
            " 25  make_jaguar             199 non-null    uint8  \n",
            " 26  make_mazda              199 non-null    uint8  \n",
            " 27  make_mercedes_benz      199 non-null    uint8  \n",
            " 28  make_mercury            199 non-null    uint8  \n",
            " 29  make_mitsubishi         199 non-null    uint8  \n",
            " 30  make_nissan             199 non-null    uint8  \n",
            " 31  make_peugot             199 non-null    uint8  \n",
            " 32  make_plymouth           199 non-null    uint8  \n",
            " 33  make_porsche            199 non-null    uint8  \n",
            " 34  make_saab               199 non-null    uint8  \n",
            " 35  make_subaru             199 non-null    uint8  \n",
            " 36  make_toyota             199 non-null    uint8  \n",
            " 37  make_volkswagen         199 non-null    uint8  \n",
            " 38  make_volvo              199 non-null    uint8  \n",
            " 39  fuel_type_diesel        199 non-null    uint8  \n",
            " 40  fuel_type_gas           199 non-null    uint8  \n",
            " 41  aspiration_std          199 non-null    uint8  \n",
            " 42  aspiration_turbo        199 non-null    uint8  \n",
            " 43  body_style_convertible  199 non-null    uint8  \n",
            " 44  body_style_hardtop      199 non-null    uint8  \n",
            " 45  body_style_hatchback    199 non-null    uint8  \n",
            " 46  body_style_sedan        199 non-null    uint8  \n",
            " 47  body_style_wagon        199 non-null    uint8  \n",
            " 48  drive_wheels_4wd        199 non-null    uint8  \n",
            " 49  drive_wheels_fwd        199 non-null    uint8  \n",
            " 50  drive_wheels_rwd        199 non-null    uint8  \n",
            " 51  engine_location_front   199 non-null    uint8  \n",
            " 52  engine_location_rear    199 non-null    uint8  \n",
            " 53  engine_type_dohc        199 non-null    uint8  \n",
            " 54  engine_type_dohcv       199 non-null    uint8  \n",
            " 55  engine_type_l           199 non-null    uint8  \n",
            " 56  engine_type_ohc         199 non-null    uint8  \n",
            " 57  engine_type_ohcf        199 non-null    uint8  \n",
            " 58  engine_type_ohcv        199 non-null    uint8  \n",
            " 59  engine_type_rotor       199 non-null    uint8  \n",
            " 60  fuel_system_1bbl        199 non-null    uint8  \n",
            " 61  fuel_system_2bbl        199 non-null    uint8  \n",
            " 62  fuel_system_4bbl        199 non-null    uint8  \n",
            " 63  fuel_system_idi         199 non-null    uint8  \n",
            " 64  fuel_system_mfi         199 non-null    uint8  \n",
            " 65  fuel_system_mpfi        199 non-null    uint8  \n",
            " 66  fuel_system_spdi        199 non-null    uint8  \n",
            " 67  fuel_system_spfi        199 non-null    uint8  \n",
            "dtypes: float64(12), int64(6), uint8(50)\n",
            "memory usage: 39.3 KB\n"
          ],
          "name": "stdout"
        }
      ]
    },
    {
      "cell_type": "markdown",
      "metadata": {
        "id": "DrrVMDg4qW21"
      },
      "source": [
        "#### 'Num_of_doors' missing\n",
        "Utilizamos KNN para imputar el valor de los missings que faltan del atributo \"num_of_doors\":"
      ]
    },
    {
      "cell_type": "code",
      "metadata": {
        "colab": {
          "base_uri": "https://localhost:8080/"
        },
        "id": "5alI1UOuqW21",
        "outputId": "de64d559-4171-434c-9d16-5b2ba933820a"
      },
      "source": [
        "subset_of_data = data.drop(columns=['normalized_losses', 'num_of_doors'])\n",
        "data_without_missings = subset_of_data[data.num_of_doors.notna() & data.normalized_losses.notna()]\n",
        "\n",
        "data_num_of_doors_missing = subset_of_data[data.num_of_doors.isna()]\n",
        "knn_num_of_doors = KNeighborsClassifier(n_neighbors=1)\n",
        "knn_num_of_doors.fit(data_without_missings, data.num_of_doors[data.num_of_doors.notna() & data.normalized_losses.notna()])"
      ],
      "execution_count": 305,
      "outputs": [
        {
          "output_type": "execute_result",
          "data": {
            "text/plain": [
              "KNeighborsClassifier(algorithm='auto', leaf_size=30, metric='minkowski',\n",
              "                     metric_params=None, n_jobs=None, n_neighbors=1, p=2,\n",
              "                     weights='uniform')"
            ]
          },
          "metadata": {
            "tags": []
          },
          "execution_count": 305
        }
      ]
    },
    {
      "cell_type": "code",
      "metadata": {
        "colab": {
          "base_uri": "https://localhost:8080/"
        },
        "id": "eBeulCkvqW21",
        "outputId": "04b3f9dd-2b34-4291-ef77-ef5514db3ea7"
      },
      "source": [
        "# predicted_num_of_doors = knn_num_of_doors.predict(data_num_of_doors_missing)\n",
        "# data.num_of_doors[data.num_of_doors.isna()] = predicted_num_of_doors\n",
        "data.info()"
      ],
      "execution_count": 306,
      "outputs": [
        {
          "output_type": "stream",
          "text": [
            "<class 'pandas.core.frame.DataFrame'>\n",
            "Int64Index: 199 entries, 0 to 204\n",
            "Data columns (total 68 columns):\n",
            " #   Column                  Non-Null Count  Dtype  \n",
            "---  ------                  --------------  -----  \n",
            " 0   symboling               199 non-null    int64  \n",
            " 1   normalized_losses       164 non-null    float64\n",
            " 2   num_of_doors            197 non-null    float64\n",
            " 3   wheel_base              199 non-null    float64\n",
            " 4   length                  199 non-null    float64\n",
            " 5   width                   199 non-null    float64\n",
            " 6   height                  199 non-null    float64\n",
            " 7   curb_weight             199 non-null    int64  \n",
            " 8   num_of_cylinders        199 non-null    int64  \n",
            " 9   engine_size             199 non-null    int64  \n",
            " 10  bore                    199 non-null    float64\n",
            " 11  stroke                  199 non-null    float64\n",
            " 12  compression_ratio       199 non-null    float64\n",
            " 13  horsepower              199 non-null    float64\n",
            " 14  peak_rpm                199 non-null    float64\n",
            " 15  city_mpg                199 non-null    int64  \n",
            " 16  highway_mpg             199 non-null    int64  \n",
            " 17  price                   199 non-null    float64\n",
            " 18  make_alfa_romero        199 non-null    uint8  \n",
            " 19  make_audi               199 non-null    uint8  \n",
            " 20  make_bmw                199 non-null    uint8  \n",
            " 21  make_chevrolet          199 non-null    uint8  \n",
            " 22  make_dodge              199 non-null    uint8  \n",
            " 23  make_honda              199 non-null    uint8  \n",
            " 24  make_isuzu              199 non-null    uint8  \n",
            " 25  make_jaguar             199 non-null    uint8  \n",
            " 26  make_mazda              199 non-null    uint8  \n",
            " 27  make_mercedes_benz      199 non-null    uint8  \n",
            " 28  make_mercury            199 non-null    uint8  \n",
            " 29  make_mitsubishi         199 non-null    uint8  \n",
            " 30  make_nissan             199 non-null    uint8  \n",
            " 31  make_peugot             199 non-null    uint8  \n",
            " 32  make_plymouth           199 non-null    uint8  \n",
            " 33  make_porsche            199 non-null    uint8  \n",
            " 34  make_saab               199 non-null    uint8  \n",
            " 35  make_subaru             199 non-null    uint8  \n",
            " 36  make_toyota             199 non-null    uint8  \n",
            " 37  make_volkswagen         199 non-null    uint8  \n",
            " 38  make_volvo              199 non-null    uint8  \n",
            " 39  fuel_type_diesel        199 non-null    uint8  \n",
            " 40  fuel_type_gas           199 non-null    uint8  \n",
            " 41  aspiration_std          199 non-null    uint8  \n",
            " 42  aspiration_turbo        199 non-null    uint8  \n",
            " 43  body_style_convertible  199 non-null    uint8  \n",
            " 44  body_style_hardtop      199 non-null    uint8  \n",
            " 45  body_style_hatchback    199 non-null    uint8  \n",
            " 46  body_style_sedan        199 non-null    uint8  \n",
            " 47  body_style_wagon        199 non-null    uint8  \n",
            " 48  drive_wheels_4wd        199 non-null    uint8  \n",
            " 49  drive_wheels_fwd        199 non-null    uint8  \n",
            " 50  drive_wheels_rwd        199 non-null    uint8  \n",
            " 51  engine_location_front   199 non-null    uint8  \n",
            " 52  engine_location_rear    199 non-null    uint8  \n",
            " 53  engine_type_dohc        199 non-null    uint8  \n",
            " 54  engine_type_dohcv       199 non-null    uint8  \n",
            " 55  engine_type_l           199 non-null    uint8  \n",
            " 56  engine_type_ohc         199 non-null    uint8  \n",
            " 57  engine_type_ohcf        199 non-null    uint8  \n",
            " 58  engine_type_ohcv        199 non-null    uint8  \n",
            " 59  engine_type_rotor       199 non-null    uint8  \n",
            " 60  fuel_system_1bbl        199 non-null    uint8  \n",
            " 61  fuel_system_2bbl        199 non-null    uint8  \n",
            " 62  fuel_system_4bbl        199 non-null    uint8  \n",
            " 63  fuel_system_idi         199 non-null    uint8  \n",
            " 64  fuel_system_mfi         199 non-null    uint8  \n",
            " 65  fuel_system_mpfi        199 non-null    uint8  \n",
            " 66  fuel_system_spdi        199 non-null    uint8  \n",
            " 67  fuel_system_spfi        199 non-null    uint8  \n",
            "dtypes: float64(12), int64(6), uint8(50)\n",
            "memory usage: 39.3 KB\n"
          ],
          "name": "stdout"
        }
      ]
    },
    {
      "cell_type": "code",
      "metadata": {
        "id": "6zo03qLcqW21",
        "colab": {
          "base_uri": "https://localhost:8080/"
        },
        "outputId": "467c1fe7-93af-4a9a-cd2f-8c6e18104d99"
      },
      "source": [
        "data_clean = data[data.num_of_doors.notna()].drop(columns=['num_of_doors', 'normalized_losses'])\n",
        "\n",
        "doors_clean = data.num_of_doors[data.num_of_doors.notna()]\n",
        "\n",
        "doors_missing = data[data.num_of_doors.isna()].drop(columns=['num_of_doors', 'normalized_losses'])\n",
        "\n",
        "\n",
        "knn = KNeighborsClassifier(n_neighbors=1)\n",
        "knn.fit(data_clean, doors_clean)\n",
        "data.num_of_doors[data.num_of_doors.isna()] = knn.predict(doors_missing)"
      ],
      "execution_count": 307,
      "outputs": [
        {
          "output_type": "execute_result",
          "data": {
            "text/plain": [
              "KNeighborsClassifier(algorithm='auto', leaf_size=30, metric='minkowski',\n",
              "                     metric_params=None, n_jobs=None, n_neighbors=1, p=2,\n",
              "                     weights='uniform')"
            ]
          },
          "metadata": {
            "tags": []
          },
          "execution_count": 307
        },
        {
          "output_type": "stream",
          "text": [
            "/usr/local/lib/python3.6/dist-packages/ipykernel_launcher.py:10: SettingWithCopyWarning: \n",
            "A value is trying to be set on a copy of a slice from a DataFrame\n",
            "\n",
            "See the caveats in the documentation: https://pandas.pydata.org/pandas-docs/stable/user_guide/indexing.html#returning-a-view-versus-a-copy\n",
            "  # Remove the CWD from sys.path while we load stuff.\n"
          ],
          "name": "stderr"
        }
      ]
    },
    {
      "cell_type": "markdown",
      "metadata": {
        "id": "p_m4uRGXwUN2"
      },
      "source": [
        "#### Imputacion de Normalized Losses \r\n",
        "\r\n",
        "Como tenemos muchos missings en esta columna, para no reducir tanto la varianza,\r\n",
        "hemos decidido imputar los valores tomando valores intermedios de cada marca. Dado que los datos estan normalizados, no existen outlier (aparentemente) y creemos conveniente utilizar la media aritmetica en vez de la moda. \r\n",
        "\r\n",
        "Para aquellas marcas (alfa_romeo), que no cuentan con ningun valor de este atributo, hemos decidido utilizar la media global de la columna."
      ]
    },
    {
      "cell_type": "code",
      "metadata": {
        "colab": {
          "base_uri": "https://localhost:8080/"
        },
        "id": "ECBEc4SNwfYp",
        "outputId": "a41e707f-5f99-43ed-fd55-303946720f23"
      },
      "source": [
        "makes = ['make_alfa_romero', 'make_audi', 'make_bmw', 'make_chevrolet', \r\n",
        "         'make_dodge', 'make_honda', 'make_isuzu', 'make_jaguar', 'make_mazda', \r\n",
        "         'make_mercedes_benz', 'make_mercury', 'make_mitsubishi', 'make_nissan',\r\n",
        "         'make_peugot', 'make_plymouth', 'make_porsche', 'make_saab',\r\n",
        "         'make_subaru', 'make_toyota', 'make_volkswagen', 'make_volvo']\r\n",
        "\r\n",
        "# replace nan by make mean\r\n",
        "for make in makes:\r\n",
        "  aux = data.normalized_losses[data[make] == 1]\r\n",
        "  make_mean = aux[aux.notna()].values.mean()\r\n",
        "  data[data[make] == 1] = data[data[make] == 1].fillna(make_mean);\r\n",
        "\r\n",
        "# as some make is completely missing, we decided to replace these by the global mean\r\n",
        "full_mean = data.normalized_losses[data.normalized_losses.notna()].values.mean()\r\n",
        "data.normalized_losses = data.normalized_losses.fillna(full_mean)"
      ],
      "execution_count": 308,
      "outputs": [
        {
          "output_type": "stream",
          "text": [
            "/usr/local/lib/python3.6/dist-packages/ipykernel_launcher.py:10: RuntimeWarning: Mean of empty slice.\n",
            "  # Remove the CWD from sys.path while we load stuff.\n",
            "/usr/local/lib/python3.6/dist-packages/numpy/core/_methods.py:170: RuntimeWarning: invalid value encountered in double_scalars\n",
            "  ret = ret.dtype.type(ret / rcount)\n",
            "/usr/local/lib/python3.6/dist-packages/ipykernel_launcher.py:10: RuntimeWarning: Mean of empty slice.\n",
            "  # Remove the CWD from sys.path while we load stuff.\n",
            "/usr/local/lib/python3.6/dist-packages/numpy/core/_methods.py:170: RuntimeWarning: invalid value encountered in double_scalars\n",
            "  ret = ret.dtype.type(ret / rcount)\n",
            "/usr/local/lib/python3.6/dist-packages/ipykernel_launcher.py:10: RuntimeWarning: Mean of empty slice.\n",
            "  # Remove the CWD from sys.path while we load stuff.\n",
            "/usr/local/lib/python3.6/dist-packages/numpy/core/_methods.py:170: RuntimeWarning: invalid value encountered in double_scalars\n",
            "  ret = ret.dtype.type(ret / rcount)\n"
          ],
          "name": "stderr"
        }
      ]
    },
    {
      "cell_type": "code",
      "metadata": {
        "colab": {
          "base_uri": "https://localhost:8080/"
        },
        "id": "ESxpAn_BPFLv",
        "outputId": "d23c800d-c629-433d-adde-4286e385a7d7"
      },
      "source": [
        "data.info()"
      ],
      "execution_count": 309,
      "outputs": [
        {
          "output_type": "stream",
          "text": [
            "<class 'pandas.core.frame.DataFrame'>\n",
            "Int64Index: 199 entries, 0 to 204\n",
            "Data columns (total 68 columns):\n",
            " #   Column                  Non-Null Count  Dtype  \n",
            "---  ------                  --------------  -----  \n",
            " 0   symboling               199 non-null    int64  \n",
            " 1   normalized_losses       199 non-null    float64\n",
            " 2   num_of_doors            199 non-null    float64\n",
            " 3   wheel_base              199 non-null    float64\n",
            " 4   length                  199 non-null    float64\n",
            " 5   width                   199 non-null    float64\n",
            " 6   height                  199 non-null    float64\n",
            " 7   curb_weight             199 non-null    int64  \n",
            " 8   num_of_cylinders        199 non-null    int64  \n",
            " 9   engine_size             199 non-null    int64  \n",
            " 10  bore                    199 non-null    float64\n",
            " 11  stroke                  199 non-null    float64\n",
            " 12  compression_ratio       199 non-null    float64\n",
            " 13  horsepower              199 non-null    float64\n",
            " 14  peak_rpm                199 non-null    float64\n",
            " 15  city_mpg                199 non-null    int64  \n",
            " 16  highway_mpg             199 non-null    int64  \n",
            " 17  price                   199 non-null    float64\n",
            " 18  make_alfa_romero        199 non-null    uint8  \n",
            " 19  make_audi               199 non-null    uint8  \n",
            " 20  make_bmw                199 non-null    uint8  \n",
            " 21  make_chevrolet          199 non-null    uint8  \n",
            " 22  make_dodge              199 non-null    uint8  \n",
            " 23  make_honda              199 non-null    uint8  \n",
            " 24  make_isuzu              199 non-null    uint8  \n",
            " 25  make_jaguar             199 non-null    uint8  \n",
            " 26  make_mazda              199 non-null    uint8  \n",
            " 27  make_mercedes_benz      199 non-null    uint8  \n",
            " 28  make_mercury            199 non-null    uint8  \n",
            " 29  make_mitsubishi         199 non-null    uint8  \n",
            " 30  make_nissan             199 non-null    uint8  \n",
            " 31  make_peugot             199 non-null    uint8  \n",
            " 32  make_plymouth           199 non-null    uint8  \n",
            " 33  make_porsche            199 non-null    uint8  \n",
            " 34  make_saab               199 non-null    uint8  \n",
            " 35  make_subaru             199 non-null    uint8  \n",
            " 36  make_toyota             199 non-null    uint8  \n",
            " 37  make_volkswagen         199 non-null    uint8  \n",
            " 38  make_volvo              199 non-null    uint8  \n",
            " 39  fuel_type_diesel        199 non-null    uint8  \n",
            " 40  fuel_type_gas           199 non-null    uint8  \n",
            " 41  aspiration_std          199 non-null    uint8  \n",
            " 42  aspiration_turbo        199 non-null    uint8  \n",
            " 43  body_style_convertible  199 non-null    uint8  \n",
            " 44  body_style_hardtop      199 non-null    uint8  \n",
            " 45  body_style_hatchback    199 non-null    uint8  \n",
            " 46  body_style_sedan        199 non-null    uint8  \n",
            " 47  body_style_wagon        199 non-null    uint8  \n",
            " 48  drive_wheels_4wd        199 non-null    uint8  \n",
            " 49  drive_wheels_fwd        199 non-null    uint8  \n",
            " 50  drive_wheels_rwd        199 non-null    uint8  \n",
            " 51  engine_location_front   199 non-null    uint8  \n",
            " 52  engine_location_rear    199 non-null    uint8  \n",
            " 53  engine_type_dohc        199 non-null    uint8  \n",
            " 54  engine_type_dohcv       199 non-null    uint8  \n",
            " 55  engine_type_l           199 non-null    uint8  \n",
            " 56  engine_type_ohc         199 non-null    uint8  \n",
            " 57  engine_type_ohcf        199 non-null    uint8  \n",
            " 58  engine_type_ohcv        199 non-null    uint8  \n",
            " 59  engine_type_rotor       199 non-null    uint8  \n",
            " 60  fuel_system_1bbl        199 non-null    uint8  \n",
            " 61  fuel_system_2bbl        199 non-null    uint8  \n",
            " 62  fuel_system_4bbl        199 non-null    uint8  \n",
            " 63  fuel_system_idi         199 non-null    uint8  \n",
            " 64  fuel_system_mfi         199 non-null    uint8  \n",
            " 65  fuel_system_mpfi        199 non-null    uint8  \n",
            " 66  fuel_system_spdi        199 non-null    uint8  \n",
            " 67  fuel_system_spfi        199 non-null    uint8  \n",
            "dtypes: float64(12), int64(6), uint8(50)\n",
            "memory usage: 39.3 KB\n"
          ],
          "name": "stdout"
        }
      ]
    },
    {
      "cell_type": "markdown",
      "metadata": {
        "id": "iCCWvI5vqW22"
      },
      "source": [
        "## Estudio estadistico de los atributos"
      ]
    },
    {
      "cell_type": "markdown",
      "metadata": {
        "id": "QB3FItZu7p-A"
      },
      "source": [
        "### Deshacer Dummy Variables\r\n",
        "Para facilitar el estudio estadistico de las variables y hacer graficos de forma mas facil, reformateamos el set de datos a una version sin Dummy Variables."
      ]
    },
    {
      "cell_type": "code",
      "metadata": {
        "id": "Xfm5lqsRqW23",
        "colab": {
          "base_uri": "https://localhost:8080/"
        },
        "outputId": "827e3f8e-6907-495c-b5ea-95bbd3fd21ce"
      },
      "source": [
        "data.columns\n",
        "makes = ['make_alfa_romero', 'make_audi', 'make_bmw', 'make_chevrolet', \n",
        "         'make_dodge', 'make_honda', 'make_isuzu', 'make_jaguar', 'make_mazda', \n",
        "         'make_mercedes_benz', 'make_mercury', 'make_mitsubishi', 'make_nissan',\n",
        "         'make_peugot', 'make_plymouth', 'make_porsche', 'make_saab',\n",
        "         'make_subaru', 'make_toyota', 'make_volkswagen', 'make_volvo']\n",
        "\n",
        "drive_wheels = ['drive_wheels_4wd', 'drive_wheels_fwd', 'drive_wheels_rwd']\n",
        "\n",
        "engine_location = ['engine_location_front', 'engine_location_rear']\n",
        "\n",
        "fuel_types = ['fuel_type_diesel', 'fuel_type_gas']\n",
        "\n",
        "aspiration = ['aspiration_std', 'aspiration_turbo']\n",
        "\n",
        "body_styles = ['body_style_convertible', 'body_style_hardtop',\n",
        "               'body_style_hatchback', 'body_style_sedan', 'body_style_wagon',]\n",
        "\n",
        "engine_type = ['engine_type_dohc', 'engine_type_dohcv', 'engine_type_l', \n",
        "               'engine_type_ohc', 'engine_type_ohcf', 'engine_type_ohcv',\n",
        "               'engine_type_rotor']\n",
        "\n",
        "fuel_system = ['fuel_system_1bbl', 'fuel_system_2bbl', 'fuel_system_4bbl', \n",
        "               'fuel_system_idi', 'fuel_system_mfi', 'fuel_system_mpfi',\n",
        "               'fuel_system_spdi', 'fuel_system_spfi']\n",
        "\n",
        "all_cols = makes + drive_wheels + fuel_types + aspiration + body_styles + \\\n",
        "           engine_location + engine_type + fuel_system\n",
        "\n",
        "data_no_OH = data.drop(columns=all_cols)\n",
        "data_no_OH['make'] = original_data.make\n",
        "data_no_OH['drive_wheels'] = original_data.drive_wheels\n",
        "data_no_OH['fuel_type'] = original_data.fuel_type\n",
        "data_no_OH['aspiration'] = original_data.aspiration\n",
        "data_no_OH['body_style'] = original_data.body_style\n",
        "data_no_OH['engine_type'] = original_data.engine_type\n",
        "data_no_OH['fuel_system'] = original_data.fuel_system\n",
        "data_no_OH['engine_location'] = original_data.engine_location\n",
        "\n",
        "data_no_OH.info()"
      ],
      "execution_count": 310,
      "outputs": [
        {
          "output_type": "execute_result",
          "data": {
            "text/plain": [
              "Index(['symboling', 'normalized_losses', 'num_of_doors', 'wheel_base',\n",
              "       'length', 'width', 'height', 'curb_weight', 'num_of_cylinders',\n",
              "       'engine_size', 'bore', 'stroke', 'compression_ratio', 'horsepower',\n",
              "       'peak_rpm', 'city_mpg', 'highway_mpg', 'price', 'make_alfa_romero',\n",
              "       'make_audi', 'make_bmw', 'make_chevrolet', 'make_dodge', 'make_honda',\n",
              "       'make_isuzu', 'make_jaguar', 'make_mazda', 'make_mercedes_benz',\n",
              "       'make_mercury', 'make_mitsubishi', 'make_nissan', 'make_peugot',\n",
              "       'make_plymouth', 'make_porsche', 'make_saab', 'make_subaru',\n",
              "       'make_toyota', 'make_volkswagen', 'make_volvo', 'fuel_type_diesel',\n",
              "       'fuel_type_gas', 'aspiration_std', 'aspiration_turbo',\n",
              "       'body_style_convertible', 'body_style_hardtop', 'body_style_hatchback',\n",
              "       'body_style_sedan', 'body_style_wagon', 'drive_wheels_4wd',\n",
              "       'drive_wheels_fwd', 'drive_wheels_rwd', 'engine_location_front',\n",
              "       'engine_location_rear', 'engine_type_dohc', 'engine_type_dohcv',\n",
              "       'engine_type_l', 'engine_type_ohc', 'engine_type_ohcf',\n",
              "       'engine_type_ohcv', 'engine_type_rotor', 'fuel_system_1bbl',\n",
              "       'fuel_system_2bbl', 'fuel_system_4bbl', 'fuel_system_idi',\n",
              "       'fuel_system_mfi', 'fuel_system_mpfi', 'fuel_system_spdi',\n",
              "       'fuel_system_spfi'],\n",
              "      dtype='object')"
            ]
          },
          "metadata": {
            "tags": []
          },
          "execution_count": 310
        },
        {
          "output_type": "stream",
          "text": [
            "<class 'pandas.core.frame.DataFrame'>\n",
            "Int64Index: 199 entries, 0 to 204\n",
            "Data columns (total 26 columns):\n",
            " #   Column             Non-Null Count  Dtype  \n",
            "---  ------             --------------  -----  \n",
            " 0   symboling          199 non-null    int64  \n",
            " 1   normalized_losses  199 non-null    float64\n",
            " 2   num_of_doors       199 non-null    float64\n",
            " 3   wheel_base         199 non-null    float64\n",
            " 4   length             199 non-null    float64\n",
            " 5   width              199 non-null    float64\n",
            " 6   height             199 non-null    float64\n",
            " 7   curb_weight        199 non-null    int64  \n",
            " 8   num_of_cylinders   199 non-null    int64  \n",
            " 9   engine_size        199 non-null    int64  \n",
            " 10  bore               199 non-null    float64\n",
            " 11  stroke             199 non-null    float64\n",
            " 12  compression_ratio  199 non-null    float64\n",
            " 13  horsepower         199 non-null    float64\n",
            " 14  peak_rpm           199 non-null    float64\n",
            " 15  city_mpg           199 non-null    int64  \n",
            " 16  highway_mpg        199 non-null    int64  \n",
            " 17  price              199 non-null    float64\n",
            " 18  make               199 non-null    object \n",
            " 19  drive_wheels       199 non-null    object \n",
            " 20  fuel_type          199 non-null    object \n",
            " 21  aspiration         199 non-null    object \n",
            " 22  body_style         199 non-null    object \n",
            " 23  engine_type        199 non-null    object \n",
            " 24  fuel_system        199 non-null    object \n",
            " 25  engine_location    199 non-null    object \n",
            "dtypes: float64(12), int64(6), object(8)\n",
            "memory usage: 42.0+ KB\n"
          ],
          "name": "stdout"
        }
      ]
    },
    {
      "cell_type": "markdown",
      "metadata": {
        "id": "IvIY88GHqW22"
      },
      "source": [
        "### Atributos numericos"
      ]
    },
    {
      "cell_type": "markdown",
      "metadata": {
        "id": "T3LAdgSPLJab"
      },
      "source": [
        "#### Data info"
      ]
    },
    {
      "cell_type": "code",
      "metadata": {
        "colab": {
          "base_uri": "https://localhost:8080/"
        },
        "id": "99RwUNlaLErT",
        "outputId": "a36e92a2-545b-40ca-8827-96e374a07549"
      },
      "source": [
        "data_no_OH.info()\r\n",
        "data.columns"
      ],
      "execution_count": 311,
      "outputs": [
        {
          "output_type": "stream",
          "text": [
            "<class 'pandas.core.frame.DataFrame'>\n",
            "Int64Index: 199 entries, 0 to 204\n",
            "Data columns (total 26 columns):\n",
            " #   Column             Non-Null Count  Dtype  \n",
            "---  ------             --------------  -----  \n",
            " 0   symboling          199 non-null    int64  \n",
            " 1   normalized_losses  199 non-null    float64\n",
            " 2   num_of_doors       199 non-null    float64\n",
            " 3   wheel_base         199 non-null    float64\n",
            " 4   length             199 non-null    float64\n",
            " 5   width              199 non-null    float64\n",
            " 6   height             199 non-null    float64\n",
            " 7   curb_weight        199 non-null    int64  \n",
            " 8   num_of_cylinders   199 non-null    int64  \n",
            " 9   engine_size        199 non-null    int64  \n",
            " 10  bore               199 non-null    float64\n",
            " 11  stroke             199 non-null    float64\n",
            " 12  compression_ratio  199 non-null    float64\n",
            " 13  horsepower         199 non-null    float64\n",
            " 14  peak_rpm           199 non-null    float64\n",
            " 15  city_mpg           199 non-null    int64  \n",
            " 16  highway_mpg        199 non-null    int64  \n",
            " 17  price              199 non-null    float64\n",
            " 18  make               199 non-null    object \n",
            " 19  drive_wheels       199 non-null    object \n",
            " 20  fuel_type          199 non-null    object \n",
            " 21  aspiration         199 non-null    object \n",
            " 22  body_style         199 non-null    object \n",
            " 23  engine_type        199 non-null    object \n",
            " 24  fuel_system        199 non-null    object \n",
            " 25  engine_location    199 non-null    object \n",
            "dtypes: float64(12), int64(6), object(8)\n",
            "memory usage: 42.0+ KB\n"
          ],
          "name": "stdout"
        },
        {
          "output_type": "execute_result",
          "data": {
            "text/plain": [
              "Index(['symboling', 'normalized_losses', 'num_of_doors', 'wheel_base',\n",
              "       'length', 'width', 'height', 'curb_weight', 'num_of_cylinders',\n",
              "       'engine_size', 'bore', 'stroke', 'compression_ratio', 'horsepower',\n",
              "       'peak_rpm', 'city_mpg', 'highway_mpg', 'price', 'make_alfa_romero',\n",
              "       'make_audi', 'make_bmw', 'make_chevrolet', 'make_dodge', 'make_honda',\n",
              "       'make_isuzu', 'make_jaguar', 'make_mazda', 'make_mercedes_benz',\n",
              "       'make_mercury', 'make_mitsubishi', 'make_nissan', 'make_peugot',\n",
              "       'make_plymouth', 'make_porsche', 'make_saab', 'make_subaru',\n",
              "       'make_toyota', 'make_volkswagen', 'make_volvo', 'fuel_type_diesel',\n",
              "       'fuel_type_gas', 'aspiration_std', 'aspiration_turbo',\n",
              "       'body_style_convertible', 'body_style_hardtop', 'body_style_hatchback',\n",
              "       'body_style_sedan', 'body_style_wagon', 'drive_wheels_4wd',\n",
              "       'drive_wheels_fwd', 'drive_wheels_rwd', 'engine_location_front',\n",
              "       'engine_location_rear', 'engine_type_dohc', 'engine_type_dohcv',\n",
              "       'engine_type_l', 'engine_type_ohc', 'engine_type_ohcf',\n",
              "       'engine_type_ohcv', 'engine_type_rotor', 'fuel_system_1bbl',\n",
              "       'fuel_system_2bbl', 'fuel_system_4bbl', 'fuel_system_idi',\n",
              "       'fuel_system_mfi', 'fuel_system_mpfi', 'fuel_system_spdi',\n",
              "       'fuel_system_spfi'],\n",
              "      dtype='object')"
            ]
          },
          "metadata": {
            "tags": []
          },
          "execution_count": 311
        }
      ]
    },
    {
      "cell_type": "markdown",
      "metadata": {
        "id": "a2dGLSW8LMJw"
      },
      "source": [
        "#### Correlation"
      ]
    },
    {
      "cell_type": "code",
      "metadata": {
        "colab": {
          "base_uri": "https://localhost:8080/",
          "height": 0
        },
        "id": "ZzYj4KDJ9PFE",
        "outputId": "079dbc2b-7201-4a46-904a-1d0ee33d9598"
      },
      "source": [
        "data_no_OH.corr()"
      ],
      "execution_count": 312,
      "outputs": [
        {
          "output_type": "execute_result",
          "data": {
            "text/html": [
              "<div>\n",
              "<style scoped>\n",
              "    .dataframe tbody tr th:only-of-type {\n",
              "        vertical-align: middle;\n",
              "    }\n",
              "\n",
              "    .dataframe tbody tr th {\n",
              "        vertical-align: top;\n",
              "    }\n",
              "\n",
              "    .dataframe thead th {\n",
              "        text-align: right;\n",
              "    }\n",
              "</style>\n",
              "<table border=\"1\" class=\"dataframe\">\n",
              "  <thead>\n",
              "    <tr style=\"text-align: right;\">\n",
              "      <th></th>\n",
              "      <th>symboling</th>\n",
              "      <th>normalized_losses</th>\n",
              "      <th>num_of_doors</th>\n",
              "      <th>wheel_base</th>\n",
              "      <th>length</th>\n",
              "      <th>width</th>\n",
              "      <th>height</th>\n",
              "      <th>curb_weight</th>\n",
              "      <th>num_of_cylinders</th>\n",
              "      <th>engine_size</th>\n",
              "      <th>bore</th>\n",
              "      <th>stroke</th>\n",
              "      <th>compression_ratio</th>\n",
              "      <th>horsepower</th>\n",
              "      <th>peak_rpm</th>\n",
              "      <th>city_mpg</th>\n",
              "      <th>highway_mpg</th>\n",
              "      <th>price</th>\n",
              "    </tr>\n",
              "  </thead>\n",
              "  <tbody>\n",
              "    <tr>\n",
              "      <th>symboling</th>\n",
              "      <td>1.000</td>\n",
              "      <td>0.472</td>\n",
              "      <td>-0.670</td>\n",
              "      <td>-0.538</td>\n",
              "      <td>-0.366</td>\n",
              "      <td>-0.244</td>\n",
              "      <td>-0.547</td>\n",
              "      <td>-0.233</td>\n",
              "      <td>-0.118</td>\n",
              "      <td>-0.111</td>\n",
              "      <td>-0.284</td>\n",
              "      <td>-0.211</td>\n",
              "      <td>-0.182</td>\n",
              "      <td>0.076</td>\n",
              "      <td>0.281</td>\n",
              "      <td>-0.035</td>\n",
              "      <td>0.036</td>\n",
              "      <td>-0.082</td>\n",
              "    </tr>\n",
              "    <tr>\n",
              "      <th>normalized_losses</th>\n",
              "      <td>0.472</td>\n",
              "      <td>1.000</td>\n",
              "      <td>-0.351</td>\n",
              "      <td>-0.013</td>\n",
              "      <td>0.106</td>\n",
              "      <td>0.142</td>\n",
              "      <td>-0.336</td>\n",
              "      <td>0.200</td>\n",
              "      <td>0.196</td>\n",
              "      <td>0.223</td>\n",
              "      <td>-0.051</td>\n",
              "      <td>-0.053</td>\n",
              "      <td>-0.112</td>\n",
              "      <td>0.353</td>\n",
              "      <td>0.247</td>\n",
              "      <td>-0.322</td>\n",
              "      <td>-0.272</td>\n",
              "      <td>0.296</td>\n",
              "    </tr>\n",
              "    <tr>\n",
              "      <th>num_of_doors</th>\n",
              "      <td>-0.670</td>\n",
              "      <td>-0.351</td>\n",
              "      <td>1.000</td>\n",
              "      <td>0.447</td>\n",
              "      <td>0.396</td>\n",
              "      <td>0.230</td>\n",
              "      <td>0.534</td>\n",
              "      <td>0.208</td>\n",
              "      <td>0.002</td>\n",
              "      <td>0.024</td>\n",
              "      <td>0.204</td>\n",
              "      <td>0.135</td>\n",
              "      <td>0.170</td>\n",
              "      <td>-0.103</td>\n",
              "      <td>-0.233</td>\n",
              "      <td>-0.028</td>\n",
              "      <td>-0.046</td>\n",
              "      <td>0.042</td>\n",
              "    </tr>\n",
              "    <tr>\n",
              "      <th>wheel_base</th>\n",
              "      <td>-0.538</td>\n",
              "      <td>-0.013</td>\n",
              "      <td>0.447</td>\n",
              "      <td>1.000</td>\n",
              "      <td>0.880</td>\n",
              "      <td>0.817</td>\n",
              "      <td>0.593</td>\n",
              "      <td>0.783</td>\n",
              "      <td>0.348</td>\n",
              "      <td>0.573</td>\n",
              "      <td>0.319</td>\n",
              "      <td>0.165</td>\n",
              "      <td>0.249</td>\n",
              "      <td>0.372</td>\n",
              "      <td>-0.361</td>\n",
              "      <td>-0.473</td>\n",
              "      <td>-0.544</td>\n",
              "      <td>0.584</td>\n",
              "    </tr>\n",
              "    <tr>\n",
              "      <th>length</th>\n",
              "      <td>-0.366</td>\n",
              "      <td>0.106</td>\n",
              "      <td>0.396</td>\n",
              "      <td>0.880</td>\n",
              "      <td>1.000</td>\n",
              "      <td>0.857</td>\n",
              "      <td>0.495</td>\n",
              "      <td>0.882</td>\n",
              "      <td>0.442</td>\n",
              "      <td>0.685</td>\n",
              "      <td>0.355</td>\n",
              "      <td>0.116</td>\n",
              "      <td>0.161</td>\n",
              "      <td>0.580</td>\n",
              "      <td>-0.286</td>\n",
              "      <td>-0.665</td>\n",
              "      <td>-0.699</td>\n",
              "      <td>0.694</td>\n",
              "    </tr>\n",
              "    <tr>\n",
              "      <th>width</th>\n",
              "      <td>-0.244</td>\n",
              "      <td>0.142</td>\n",
              "      <td>0.230</td>\n",
              "      <td>0.817</td>\n",
              "      <td>0.857</td>\n",
              "      <td>1.000</td>\n",
              "      <td>0.309</td>\n",
              "      <td>0.867</td>\n",
              "      <td>0.522</td>\n",
              "      <td>0.729</td>\n",
              "      <td>0.282</td>\n",
              "      <td>0.115</td>\n",
              "      <td>0.191</td>\n",
              "      <td>0.615</td>\n",
              "      <td>-0.246</td>\n",
              "      <td>-0.633</td>\n",
              "      <td>-0.681</td>\n",
              "      <td>0.754</td>\n",
              "    </tr>\n",
              "    <tr>\n",
              "      <th>height</th>\n",
              "      <td>-0.547</td>\n",
              "      <td>-0.336</td>\n",
              "      <td>0.534</td>\n",
              "      <td>0.593</td>\n",
              "      <td>0.495</td>\n",
              "      <td>0.309</td>\n",
              "      <td>1.000</td>\n",
              "      <td>0.308</td>\n",
              "      <td>0.007</td>\n",
              "      <td>0.076</td>\n",
              "      <td>0.304</td>\n",
              "      <td>0.172</td>\n",
              "      <td>0.260</td>\n",
              "      <td>-0.087</td>\n",
              "      <td>-0.312</td>\n",
              "      <td>-0.051</td>\n",
              "      <td>-0.105</td>\n",
              "      <td>0.135</td>\n",
              "    </tr>\n",
              "    <tr>\n",
              "      <th>curb_weight</th>\n",
              "      <td>-0.233</td>\n",
              "      <td>0.200</td>\n",
              "      <td>0.208</td>\n",
              "      <td>0.783</td>\n",
              "      <td>0.882</td>\n",
              "      <td>0.867</td>\n",
              "      <td>0.308</td>\n",
              "      <td>1.000</td>\n",
              "      <td>0.605</td>\n",
              "      <td>0.849</td>\n",
              "      <td>0.356</td>\n",
              "      <td>0.130</td>\n",
              "      <td>0.156</td>\n",
              "      <td>0.758</td>\n",
              "      <td>-0.279</td>\n",
              "      <td>-0.750</td>\n",
              "      <td>-0.795</td>\n",
              "      <td>0.835</td>\n",
              "    </tr>\n",
              "    <tr>\n",
              "      <th>num_of_cylinders</th>\n",
              "      <td>-0.118</td>\n",
              "      <td>0.196</td>\n",
              "      <td>0.002</td>\n",
              "      <td>0.348</td>\n",
              "      <td>0.442</td>\n",
              "      <td>0.522</td>\n",
              "      <td>0.007</td>\n",
              "      <td>0.605</td>\n",
              "      <td>1.000</td>\n",
              "      <td>0.849</td>\n",
              "      <td>0.379</td>\n",
              "      <td>0.276</td>\n",
              "      <td>-0.019</td>\n",
              "      <td>0.669</td>\n",
              "      <td>-0.152</td>\n",
              "      <td>-0.441</td>\n",
              "      <td>-0.474</td>\n",
              "      <td>0.708</td>\n",
              "    </tr>\n",
              "    <tr>\n",
              "      <th>engine_size</th>\n",
              "      <td>-0.111</td>\n",
              "      <td>0.223</td>\n",
              "      <td>0.024</td>\n",
              "      <td>0.573</td>\n",
              "      <td>0.685</td>\n",
              "      <td>0.729</td>\n",
              "      <td>0.076</td>\n",
              "      <td>0.849</td>\n",
              "      <td>0.849</td>\n",
              "      <td>1.000</td>\n",
              "      <td>0.447</td>\n",
              "      <td>0.272</td>\n",
              "      <td>0.029</td>\n",
              "      <td>0.823</td>\n",
              "      <td>-0.257</td>\n",
              "      <td>-0.651</td>\n",
              "      <td>-0.680</td>\n",
              "      <td>0.874</td>\n",
              "    </tr>\n",
              "    <tr>\n",
              "      <th>bore</th>\n",
              "      <td>-0.284</td>\n",
              "      <td>-0.051</td>\n",
              "      <td>0.204</td>\n",
              "      <td>0.319</td>\n",
              "      <td>0.355</td>\n",
              "      <td>0.282</td>\n",
              "      <td>0.304</td>\n",
              "      <td>0.356</td>\n",
              "      <td>0.379</td>\n",
              "      <td>0.447</td>\n",
              "      <td>1.000</td>\n",
              "      <td>0.698</td>\n",
              "      <td>0.026</td>\n",
              "      <td>0.262</td>\n",
              "      <td>-0.362</td>\n",
              "      <td>-0.127</td>\n",
              "      <td>-0.155</td>\n",
              "      <td>0.276</td>\n",
              "    </tr>\n",
              "    <tr>\n",
              "      <th>stroke</th>\n",
              "      <td>-0.211</td>\n",
              "      <td>-0.053</td>\n",
              "      <td>0.135</td>\n",
              "      <td>0.165</td>\n",
              "      <td>0.116</td>\n",
              "      <td>0.115</td>\n",
              "      <td>0.172</td>\n",
              "      <td>0.130</td>\n",
              "      <td>0.276</td>\n",
              "      <td>0.272</td>\n",
              "      <td>0.698</td>\n",
              "      <td>1.000</td>\n",
              "      <td>0.135</td>\n",
              "      <td>0.037</td>\n",
              "      <td>-0.255</td>\n",
              "      <td>0.140</td>\n",
              "      <td>0.113</td>\n",
              "      <td>0.056</td>\n",
              "    </tr>\n",
              "    <tr>\n",
              "      <th>compression_ratio</th>\n",
              "      <td>-0.182</td>\n",
              "      <td>-0.112</td>\n",
              "      <td>0.170</td>\n",
              "      <td>0.249</td>\n",
              "      <td>0.161</td>\n",
              "      <td>0.191</td>\n",
              "      <td>0.260</td>\n",
              "      <td>0.156</td>\n",
              "      <td>-0.019</td>\n",
              "      <td>0.029</td>\n",
              "      <td>0.026</td>\n",
              "      <td>0.135</td>\n",
              "      <td>1.000</td>\n",
              "      <td>-0.215</td>\n",
              "      <td>-0.436</td>\n",
              "      <td>0.331</td>\n",
              "      <td>0.269</td>\n",
              "      <td>0.070</td>\n",
              "    </tr>\n",
              "    <tr>\n",
              "      <th>horsepower</th>\n",
              "      <td>0.076</td>\n",
              "      <td>0.353</td>\n",
              "      <td>-0.103</td>\n",
              "      <td>0.372</td>\n",
              "      <td>0.580</td>\n",
              "      <td>0.615</td>\n",
              "      <td>-0.087</td>\n",
              "      <td>0.758</td>\n",
              "      <td>0.669</td>\n",
              "      <td>0.823</td>\n",
              "      <td>0.262</td>\n",
              "      <td>0.037</td>\n",
              "      <td>-0.215</td>\n",
              "      <td>1.000</td>\n",
              "      <td>0.108</td>\n",
              "      <td>-0.823</td>\n",
              "      <td>-0.805</td>\n",
              "      <td>0.811</td>\n",
              "    </tr>\n",
              "    <tr>\n",
              "      <th>peak_rpm</th>\n",
              "      <td>0.281</td>\n",
              "      <td>0.247</td>\n",
              "      <td>-0.233</td>\n",
              "      <td>-0.361</td>\n",
              "      <td>-0.286</td>\n",
              "      <td>-0.246</td>\n",
              "      <td>-0.312</td>\n",
              "      <td>-0.279</td>\n",
              "      <td>-0.152</td>\n",
              "      <td>-0.257</td>\n",
              "      <td>-0.362</td>\n",
              "      <td>-0.255</td>\n",
              "      <td>-0.436</td>\n",
              "      <td>0.108</td>\n",
              "      <td>1.000</td>\n",
              "      <td>-0.115</td>\n",
              "      <td>-0.059</td>\n",
              "      <td>-0.102</td>\n",
              "    </tr>\n",
              "    <tr>\n",
              "      <th>city_mpg</th>\n",
              "      <td>-0.035</td>\n",
              "      <td>-0.322</td>\n",
              "      <td>-0.028</td>\n",
              "      <td>-0.473</td>\n",
              "      <td>-0.665</td>\n",
              "      <td>-0.633</td>\n",
              "      <td>-0.051</td>\n",
              "      <td>-0.750</td>\n",
              "      <td>-0.441</td>\n",
              "      <td>-0.651</td>\n",
              "      <td>-0.127</td>\n",
              "      <td>0.140</td>\n",
              "      <td>0.331</td>\n",
              "      <td>-0.823</td>\n",
              "      <td>-0.115</td>\n",
              "      <td>1.000</td>\n",
              "      <td>0.973</td>\n",
              "      <td>-0.689</td>\n",
              "    </tr>\n",
              "    <tr>\n",
              "      <th>highway_mpg</th>\n",
              "      <td>0.036</td>\n",
              "      <td>-0.272</td>\n",
              "      <td>-0.046</td>\n",
              "      <td>-0.544</td>\n",
              "      <td>-0.699</td>\n",
              "      <td>-0.681</td>\n",
              "      <td>-0.105</td>\n",
              "      <td>-0.795</td>\n",
              "      <td>-0.474</td>\n",
              "      <td>-0.680</td>\n",
              "      <td>-0.155</td>\n",
              "      <td>0.113</td>\n",
              "      <td>0.269</td>\n",
              "      <td>-0.805</td>\n",
              "      <td>-0.059</td>\n",
              "      <td>0.973</td>\n",
              "      <td>1.000</td>\n",
              "      <td>-0.705</td>\n",
              "    </tr>\n",
              "    <tr>\n",
              "      <th>price</th>\n",
              "      <td>-0.082</td>\n",
              "      <td>0.296</td>\n",
              "      <td>0.042</td>\n",
              "      <td>0.584</td>\n",
              "      <td>0.694</td>\n",
              "      <td>0.754</td>\n",
              "      <td>0.135</td>\n",
              "      <td>0.835</td>\n",
              "      <td>0.708</td>\n",
              "      <td>0.874</td>\n",
              "      <td>0.276</td>\n",
              "      <td>0.056</td>\n",
              "      <td>0.070</td>\n",
              "      <td>0.811</td>\n",
              "      <td>-0.102</td>\n",
              "      <td>-0.689</td>\n",
              "      <td>-0.705</td>\n",
              "      <td>1.000</td>\n",
              "    </tr>\n",
              "  </tbody>\n",
              "</table>\n",
              "</div>"
            ],
            "text/plain": [
              "                   symboling  normalized_losses  ...  highway_mpg  price\n",
              "symboling              1.000              0.472  ...        0.036 -0.082\n",
              "normalized_losses      0.472              1.000  ...       -0.272  0.296\n",
              "num_of_doors          -0.670             -0.351  ...       -0.046  0.042\n",
              "wheel_base            -0.538             -0.013  ...       -0.544  0.584\n",
              "length                -0.366              0.106  ...       -0.699  0.694\n",
              "width                 -0.244              0.142  ...       -0.681  0.754\n",
              "height                -0.547             -0.336  ...       -0.105  0.135\n",
              "curb_weight           -0.233              0.200  ...       -0.795  0.835\n",
              "num_of_cylinders      -0.118              0.196  ...       -0.474  0.708\n",
              "engine_size           -0.111              0.223  ...       -0.680  0.874\n",
              "bore                  -0.284             -0.051  ...       -0.155  0.276\n",
              "stroke                -0.211             -0.053  ...        0.113  0.056\n",
              "compression_ratio     -0.182             -0.112  ...        0.269  0.070\n",
              "horsepower             0.076              0.353  ...       -0.805  0.811\n",
              "peak_rpm               0.281              0.247  ...       -0.059 -0.102\n",
              "city_mpg              -0.035             -0.322  ...        0.973 -0.689\n",
              "highway_mpg            0.036             -0.272  ...        1.000 -0.705\n",
              "price                 -0.082              0.296  ...       -0.705  1.000\n",
              "\n",
              "[18 rows x 18 columns]"
            ]
          },
          "metadata": {
            "tags": []
          },
          "execution_count": 312
        }
      ]
    },
    {
      "cell_type": "markdown",
      "metadata": {
        "id": "ibybOoARqW22"
      },
      "source": [
        "#### Price\r\n"
      ]
    },
    {
      "cell_type": "markdown",
      "metadata": {
        "id": "IcqBa72PeHPf"
      },
      "source": [
        "Vemos que el precio esta principalmente localizado entre 7.7K y 16.5K dolares. El boxplot revela que contamos con muchos valores que podriamos considerar Outliers."
      ]
    },
    {
      "cell_type": "code",
      "metadata": {
        "id": "Xhg3XJdvqW22",
        "colab": {
          "base_uri": "https://localhost:8080/",
          "height": 0
        },
        "outputId": "f98052d4-8b40-4971-fa16-33fccd4b3859"
      },
      "source": [
        "plt.rcParams['figure.figsize']=(7,7)\r\n",
        "sn.boxplot(y=\"price\", data=data_no_OH).set_title('Global Price');\r\n",
        "data.price.describe()"
      ],
      "execution_count": 313,
      "outputs": [
        {
          "output_type": "execute_result",
          "data": {
            "text/plain": [
              "Text(0.5, 1.0, 'Global Price')"
            ]
          },
          "metadata": {
            "tags": []
          },
          "execution_count": 313
        },
        {
          "output_type": "execute_result",
          "data": {
            "text/plain": [
              "count      199.000\n",
              "mean     13243.432\n",
              "std       7978.708\n",
              "min       5118.000\n",
              "25%       7775.000\n",
              "50%      10345.000\n",
              "75%      16501.500\n",
              "max      45400.000\n",
              "Name: price, dtype: float64"
            ]
          },
          "metadata": {
            "tags": []
          },
          "execution_count": 313
        },
        {
          "output_type": "display_data",
          "data": {
            "image/png": "[encoded data removed]",
            "text/plain": [
              "<Figure size 504x504 with 1 Axes>"
            ]
          },
          "metadata": {
            "tags": [],
            "needs_background": "light"
          }
        }
      ]
    },
    {
      "cell_type": "markdown",
      "metadata": {
        "id": "i4v2yxd622o1"
      },
      "source": [
        "Para mayor precision, visualizamos la distribucion del precio respecto a cada una de las marcas de vehiculos del dataset. Podemos ver que marcas Europeas como Jaguar, BMW o Porsche tienen precios mucho mas altos que el resto. Esto se debe principalmente a que la informacion de precios esta sesgada, por ser precios de Estados Unidos en el 1987 y por lo tanto, todo vehiculo importado de Europa siempre sera mucho mas caro que uno americano o asiatico. \r\n",
        "\r\n",
        "Por lo tanto, estos Outliers del boxplot anterior, son en realidad valores correctos que debido al desbalanceo entre vehiculos asiaticos, eurpeos y americanos, se detectan como minoritarios y no entran dentro del la zona somberada de azul."
      ]
    },
    {
      "cell_type": "code",
      "metadata": {
        "colab": {
          "base_uri": "https://localhost:8080/",
          "height": 0
        },
        "id": "OUhiBFvE3GPE",
        "outputId": "8bb11fff-b367-410e-a5ca-9003b547ed89"
      },
      "source": [
        "plt.rcParams['figure.figsize']=(25,7)\r\n",
        "sn.boxplot(x='make', y=\"price\", data=data_no_OH).set_title('Price for each Make');"
      ],
      "execution_count": 314,
      "outputs": [
        {
          "output_type": "display_data",
          "data": {
            "image/png": "[encoded data removed]",
            "text/plain": [
              "<Figure size 1800x504 with 1 Axes>"
            ]
          },
          "metadata": {
            "tags": [],
            "needs_background": "light"
          }
        }
      ]
    },
    {
      "cell_type": "markdown",
      "metadata": {
        "id": "Cpn38TwR6goS"
      },
      "source": [
        "#### Horsepower"
      ]
    },
    {
      "cell_type": "markdown",
      "metadata": {
        "id": "gTl9CcTW9E3g"
      },
      "source": [
        "Todos son valores normales."
      ]
    },
    {
      "cell_type": "code",
      "metadata": {
        "colab": {
          "base_uri": "https://localhost:8080/",
          "height": 0
        },
        "id": "T10qe-sL6ltr",
        "outputId": "72a6528e-fae1-40e7-8c31-ee6ecaebcf1a"
      },
      "source": [
        "plt.rcParams['figure.figsize']=(7,7)\r\n",
        "sn.boxplot(y=\"horsepower\", data=data_no_OH).set_title('Global Horsepower');\r\n",
        "data.horsepower.describe()"
      ],
      "execution_count": 315,
      "outputs": [
        {
          "output_type": "execute_result",
          "data": {
            "text/plain": [
              "Text(0.5, 1.0, 'Global Horsepower')"
            ]
          },
          "metadata": {
            "tags": []
          },
          "execution_count": 315
        },
        {
          "output_type": "execute_result",
          "data": {
            "text/plain": [
              "count    199.000\n",
              "mean     103.397\n",
              "std       37.554\n",
              "min       48.000\n",
              "25%       70.000\n",
              "50%       95.000\n",
              "75%      116.000\n",
              "max      262.000\n",
              "Name: horsepower, dtype: float64"
            ]
          },
          "metadata": {
            "tags": []
          },
          "execution_count": 315
        },
        {
          "output_type": "display_data",
          "data": {
            "image/png": "[encoded data removed]",
            "text/plain": [
              "<Figure size 504x504 with 1 Axes>"
            ]
          },
          "metadata": {
            "tags": [],
            "needs_background": "light"
          }
        }
      ]
    },
    {
      "cell_type": "code",
      "metadata": {
        "colab": {
          "base_uri": "https://localhost:8080/",
          "height": 0
        },
        "id": "fjfAGOpU79K7",
        "outputId": "efb3b402-9735-47fd-d073-e5820b9995f0"
      },
      "source": [
        "plt.rcParams['figure.figsize']=(25,7)\r\n",
        "sn.scatterplot(x='price', y=\"horsepower\", data=data_no_OH).set_title('Price for each Make');"
      ],
      "execution_count": 316,
      "outputs": [
        {
          "output_type": "display_data",
          "data": {
            "image/png": "[encoded data removed]",
            "text/plain": [
              "<Figure size 1800x504 with 1 Axes>"
            ]
          },
          "metadata": {
            "tags": [],
            "needs_background": "light"
          }
        }
      ]
    },
    {
      "cell_type": "markdown",
      "metadata": {
        "id": "8F2ezWOq9V0P"
      },
      "source": [
        "#### Num of doors"
      ]
    },
    {
      "cell_type": "markdown",
      "metadata": {
        "id": "9iXVPENc95uL"
      },
      "source": [
        "El atributo referente al numero de puertas de un vehiculo no parece a priori relevante. Es cierto que los coches deportivos (mas caros) suelen ser de dos puertas, pero a pesar es esto, no parece un atributo muy relevante para decidir el precio de un vehiculo."
      ]
    },
    {
      "cell_type": "code",
      "metadata": {
        "colab": {
          "base_uri": "https://localhost:8080/",
          "height": 0
        },
        "id": "ohTV_O1P9lo2",
        "outputId": "98af4f21-0c07-4de8-9bf4-8d1bf93d81e7"
      },
      "source": [
        "plt.rcParams['figure.figsize']=(7,7)\r\n",
        "sn.boxplot(x=\"num_of_doors\", y='price', data=data_no_OH).set_title('Price vs Num_of_Doors');"
      ],
      "execution_count": 317,
      "outputs": [
        {
          "output_type": "display_data",
          "data": {
            "image/png": "[encoded data removed]",
            "text/plain": [
              "<Figure size 504x504 with 1 Axes>"
            ]
          },
          "metadata": {
            "tags": [],
            "needs_background": "light"
          }
        }
      ]
    },
    {
      "cell_type": "markdown",
      "metadata": {
        "id": "FvL8rdyW-sYb"
      },
      "source": [
        "Por ser poco explicativa, este atributo sera eliminado."
      ]
    },
    {
      "cell_type": "code",
      "metadata": {
        "id": "-d4EHXZV-r61"
      },
      "source": [
        "data.drop(columns=['num_of_doors'], inplace=True);\r\n",
        "data_no_OH.drop(columns=['num_of_doors'], inplace=True);"
      ],
      "execution_count": 318,
      "outputs": []
    },
    {
      "cell_type": "markdown",
      "metadata": {
        "id": "9ZftbsOtQlpM"
      },
      "source": [
        "#### engine_size (cubicaje)"
      ]
    },
    {
      "cell_type": "markdown",
      "metadata": {
        "id": "W9NUi6hmd9eM"
      },
      "source": [
        "Nos hemos dado cuenta de esta variable representa el cubicaje de los motores. Este valor en el mundo real afecta mucho al precio del vehiculo, y como podemos ver en la matriz de correlaciones, en este dataset tambien. Este valor es derivado de los atributos stroke,bore y num_of_cylinders, ya que con estos valores podemos estimar el volumen total del motor. Esta relacion se refleja tambien en la correlacion de engine_size con estas variables. Por ello, hemos decidido, con el fin de reducir la dimensionalidad, eliminar estos 3 atributos."
      ]
    },
    {
      "cell_type": "code",
      "metadata": {
        "id": "rK4xin5yRmu1"
      },
      "source": [
        "data.drop(columns=['bore'], inplace=True)\r\n",
        "data.drop(columns=['stroke'], inplace=True)\r\n",
        "data.drop(columns=['num_of_cylinders'], inplace=True)\r\n",
        "\r\n",
        "data_no_OH.drop(columns=['bore'], inplace=True)\r\n",
        "data_no_OH.drop(columns=['stroke'], inplace=True)\r\n",
        "data_no_OH.drop(columns=['num_of_cylinders'], inplace=True)"
      ],
      "execution_count": 319,
      "outputs": []
    },
    {
      "cell_type": "markdown",
      "metadata": {
        "id": "QCkQJ2oB9ZH7"
      },
      "source": [
        "#### Wheelbase (Distancia entre ejes)"
      ]
    },
    {
      "cell_type": "markdown",
      "metadata": {
        "id": "3McaQVKReMHm"
      },
      "source": [
        "Podemos ver en el grafico que los datos tienen una muy ligera tendencia de crecimiento con el precio. Decidimos dejarlo y posteriormente, segun lo que los modelos utlicen la variable, decidiremos utilizarla o no."
      ]
    },
    {
      "cell_type": "code",
      "metadata": {
        "colab": {
          "base_uri": "https://localhost:8080/",
          "height": 0
        },
        "id": "W5_jaNj9_BMb",
        "outputId": "b2394fb3-7c52-4d46-965d-408b325e2a69"
      },
      "source": [
        "plt.rcParams['figure.figsize']=(15,7)\r\n",
        "sn.scatterplot(x=\"wheel_base\", y='price', data=data_no_OH).set_title('Wheel Base vs Price');"
      ],
      "execution_count": 320,
      "outputs": [
        {
          "output_type": "display_data",
          "data": {
            "image/png": "[encoded data removed]",
            "text/plain": [
              "<Figure size 1080x504 with 1 Axes>"
            ]
          },
          "metadata": {
            "tags": [],
            "needs_background": "light"
          }
        }
      ]
    },
    {
      "cell_type": "markdown",
      "metadata": {
        "id": "Gty7ll9k9ZvR"
      },
      "source": [
        "#### Tamaño del vehiculo (Lenght, Height, Width)"
      ]
    },
    {
      "cell_type": "markdown",
      "metadata": {
        "id": "ebr7S388eehc"
      },
      "source": [
        "De las 3, la altura es la menos representativa (la que menos afecta al precio directamente), pero por lo general, y los graficos lo revelan, hay una tendencia de cuanto mas grande el vehiculo, mas caro es."
      ]
    },
    {
      "cell_type": "code",
      "metadata": {
        "id": "7oIMYuB-C7W6",
        "colab": {
          "base_uri": "https://localhost:8080/",
          "height": 0
        },
        "outputId": "c05fe648-03c0-48ce-d4ff-5544ad76bfbb"
      },
      "source": [
        "plt.rcParams['figure.figsize']=(15,7)\r\n",
        "sn.scatterplot(x=\"width\", y='price', data=data_no_OH).set_title('Width vs Price');"
      ],
      "execution_count": 321,
      "outputs": [
        {
          "output_type": "display_data",
          "data": {
            "image/png": "[encoded data removed]",
            "text/plain": [
              "<Figure size 1080x504 with 1 Axes>"
            ]
          },
          "metadata": {
            "tags": [],
            "needs_background": "light"
          }
        }
      ]
    },
    {
      "cell_type": "code",
      "metadata": {
        "colab": {
          "base_uri": "https://localhost:8080/",
          "height": 0
        },
        "id": "AfybbQKFcxJC",
        "outputId": "fe7ae8cd-8e58-4c68-ca17-b478ef0ed266"
      },
      "source": [
        "plt.rcParams['figure.figsize']=(15,7)\r\n",
        "sn.scatterplot(x=\"length\", y='price', data=data_no_OH).set_title('Length vs Price');"
      ],
      "execution_count": 322,
      "outputs": [
        {
          "output_type": "display_data",
          "data": {
            "image/png": "[encoded data removed]",
            "text/plain": [
              "<Figure size 1080x504 with 1 Axes>"
            ]
          },
          "metadata": {
            "tags": [],
            "needs_background": "light"
          }
        }
      ]
    },
    {
      "cell_type": "code",
      "metadata": {
        "colab": {
          "base_uri": "https://localhost:8080/",
          "height": 0
        },
        "id": "XbbEHLhJdC_0",
        "outputId": "60fe3133-6398-4a6d-9855-10df0bf73d82"
      },
      "source": [
        "plt.rcParams['figure.figsize']=(15,7)\r\n",
        "sn.scatterplot(x=\"height\", y='price', data=data_no_OH).set_title('Length vs Price');"
      ],
      "execution_count": 323,
      "outputs": [
        {
          "output_type": "display_data",
          "data": {
            "image/png": "[encoded data removed]",
            "text/plain": [
              "<Figure size 1080x504 with 1 Axes>"
            ]
          },
          "metadata": {
            "tags": [],
            "needs_background": "light"
          }
        }
      ]
    },
    {
      "cell_type": "markdown",
      "metadata": {
        "id": "meaQRevJ9aKd"
      },
      "source": [
        "#### Fuel type"
      ]
    },
    {
      "cell_type": "code",
      "metadata": {
        "colab": {
          "base_uri": "https://localhost:8080/",
          "height": 0
        },
        "id": "JBWbpY6WXpG7",
        "outputId": "89783879-5dd1-4e92-9998-90eb623b2a32"
      },
      "source": [
        "plt.rcParams['figure.figsize']=(7,7)\r\n",
        "sn.boxplot(x=\"fuel_type\", y='compression_ratio', data=data_no_OH).set_title('Fuel_type vs Price');"
      ],
      "execution_count": 324,
      "outputs": [
        {
          "output_type": "display_data",
          "data": {
            "image/png": "[encoded data removed]",
            "text/plain": [
              "<Figure size 504x504 with 1 Axes>"
            ]
          },
          "metadata": {
            "tags": [],
            "needs_background": "light"
          }
        }
      ]
    },
    {
      "cell_type": "markdown",
      "metadata": {
        "id": "83UQMczeYZGP"
      },
      "source": [
        "Los motores diesel tienen el doble de ratio de compresión que los de gasolina, por lo tanto podemos suprimir el tipo de combustible ya que estan correlacionadas"
      ]
    },
    {
      "cell_type": "code",
      "metadata": {
        "id": "t34nlUHHc4Md"
      },
      "source": [
        "data.drop(columns=['fuel_type_diesel'], inplace=True)\r\n",
        "data.drop(columns=['fuel_type_gas'], inplace=True)\r\n",
        "data_no_OH.drop(columns=['fuel_type'], inplace=True)"
      ],
      "execution_count": 325,
      "outputs": []
    },
    {
      "cell_type": "markdown",
      "metadata": {
        "id": "7vyyGeDX9asI"
      },
      "source": [
        "#### PeakRPM"
      ]
    },
    {
      "cell_type": "code",
      "metadata": {
        "colab": {
          "base_uri": "https://localhost:8080/",
          "height": 0
        },
        "id": "OoXfRoKefcgn",
        "outputId": "2df29dd6-5280-42e3-8198-c206b1bb9e00"
      },
      "source": [
        "plt.rcParams['figure.figsize']=(25,7)\r\n",
        "sn.scatterplot(x=\"compression_ratio\", y='peak_rpm', data=data_no_OH).set_title('Fuel_type vs Price');"
      ],
      "execution_count": 326,
      "outputs": [
        {
          "output_type": "display_data",
          "data": {
            "image/png": "[encoded data removed]",
            "text/plain": [
              "<Figure size 1800x504 with 1 Axes>"
            ]
          },
          "metadata": {
            "tags": [],
            "needs_background": "light"
          }
        }
      ]
    },
    {
      "cell_type": "markdown",
      "metadata": {
        "id": "YRnjktZxhUb9"
      },
      "source": [
        "Esta variable no nos aporta nada ya que se puede comprobar que para compression ratio no es capaz de distinguir entre diesel y gasolina (los puntos comparten altura en el grafico) y, aunque fuera capaz de hacer lo, solo estariamos añadiendo redundancia a los datos ya que compressión ratio puede distinguir perfectamente entre estas clases."
      ]
    },
    {
      "cell_type": "code",
      "metadata": {
        "id": "6XmvaQpfjCaw"
      },
      "source": [
        "data.drop(columns=['peak_rpm'], inplace=True)\r\n",
        "data_no_OH.drop(columns=['peak_rpm'], inplace=True)"
      ],
      "execution_count": 327,
      "outputs": []
    },
    {
      "cell_type": "markdown",
      "metadata": {
        "id": "UGyUEwG5fH-l"
      },
      "source": [
        "#### curb_weight (Peso en vacio del vehiculo)"
      ]
    },
    {
      "cell_type": "markdown",
      "metadata": {
        "id": "lgZ0QYHWfLbV"
      },
      "source": [
        "El peso se ve principalmente condicionado por el peso del motor, lo cual se deriva directamente de el atributo 'engine_size'. Obviamente esta tambien relacionado con las dimensiones del vehiculo y con el consumo del mismo. Pero a pesar de esto (los cuales serian motivo para plantearse la eliminacion de una variable por redundancia), existe el factor \"calidad de construccion de los materiales\" lo cual va ligado a un mayor peso y mayor precio (sobretodo en la epoca del dataset, años 80-90).\r\n",
        "\r\n",
        "Por esta razon, mantenemos la variable, por ser altamente explicativa, tanto numericamente como conceptualmente."
      ]
    },
    {
      "cell_type": "markdown",
      "metadata": {
        "id": "Q1MWDMIghgWP"
      },
      "source": [
        "#### City-MPG / Highway-MPG (Consumos)"
      ]
    },
    {
      "cell_type": "markdown",
      "metadata": {
        "id": "OnN456Rkhmze"
      },
      "source": [
        "Los consumos estan muy correlaciones entre ellos pero son diferentes. La diferencia entre estos es que el consumo urbano se ve mas afectado por el peso, y el consumo en carretera por la aerodinamica. Al no contar con datos sobre la aerodinamica, como podria ser el CX, creemos adecuado mantener estos consumos en los datos, ya que de estos se puede extraer informacion extra que no tenemos. Ademas estan tambien altamente correlacionados con el precio del vehiculo."
      ]
    },
    {
      "cell_type": "markdown",
      "metadata": {
        "id": "UYV-Lwu8j1P4"
      },
      "source": [
        "#### Normaliced_losses"
      ]
    },
    {
      "cell_type": "markdown",
      "metadata": {
        "id": "E0dvatXbkmbC"
      },
      "source": [
        "Al ser datos normalizados, no podemos compararlos directamente (aparentemente las correlaciones no son muy altas). Por ello creemos conveniente dejar el atributo, y si posteriormente vemos que no es util a los metodos, actuar en consecuencia."
      ]
    },
    {
      "cell_type": "code",
      "metadata": {
        "colab": {
          "base_uri": "https://localhost:8080/"
        },
        "id": "JOdWG9alosH6",
        "outputId": "2df6ec87-d340-4dff-977a-8c2df9d09a25"
      },
      "source": [
        "data.normalized_losses.describe()"
      ],
      "execution_count": 328,
      "outputs": [
        {
          "output_type": "execute_result",
          "data": {
            "text/plain": [
              "count    199.000\n",
              "mean     125.913\n",
              "std       35.235\n",
              "min       65.000\n",
              "25%       99.500\n",
              "50%      122.000\n",
              "75%      150.000\n",
              "max      256.000\n",
              "Name: normalized_losses, dtype: float64"
            ]
          },
          "metadata": {
            "tags": []
          },
          "execution_count": 328
        }
      ]
    },
    {
      "cell_type": "code",
      "metadata": {
        "colab": {
          "base_uri": "https://localhost:8080/",
          "height": 0
        },
        "id": "m9w0r2M9T-d4",
        "outputId": "f4509dfa-2acc-4132-860d-1df7feed872a"
      },
      "source": [
        "plt.rcParams['figure.figsize']=(25,7)\r\n",
        "sn.scatterplot(x=\"normalized_losses\", y=\"price\", data=data_no_OH);"
      ],
      "execution_count": 329,
      "outputs": [
        {
          "output_type": "display_data",
          "data": {
            "image/png": "[encoded data removed]",
            "text/plain": [
              "<Figure size 1800x504 with 1 Axes>"
            ]
          },
          "metadata": {
            "tags": [],
            "needs_background": "light"
          }
        }
      ]
    },
    {
      "cell_type": "markdown",
      "metadata": {
        "id": "decWTrHPqW22"
      },
      "source": [
        " ### Atributos categoricos"
      ]
    },
    {
      "cell_type": "markdown",
      "metadata": {
        "id": "36pS-dUtyEbx"
      },
      "source": [
        "#### Symboling"
      ]
    },
    {
      "cell_type": "markdown",
      "metadata": {
        "id": "pV8NiJCZsc-B"
      },
      "source": [
        "La variable symboling es aparentemente normal, lo cual tiene sentido dentro del contexto, ya que, lo normal es que las compañias de seguros no pierdan dinero con los vehiculos asegurados y por lo tanto, el riesgo asociado a estos sea neutro. Tambien vemos que se tiende mas a considerar un vehiculo como \"de riesgo\" que \"no de riesgo\"."
      ]
    },
    {
      "cell_type": "code",
      "metadata": {
        "colab": {
          "base_uri": "https://localhost:8080/",
          "height": 0
        },
        "id": "CFdmhv5hqW22",
        "outputId": "8fce0422-a5ef-480f-89e5-3a020595d985"
      },
      "source": [
        "plt.rcParams['figure.figsize']=(7,7);\n",
        "plt.bar([0, 1, 2, 3, -1, -2], data.symboling.value_counts());\n",
        "plt.title(\"Symboling\");"
      ],
      "execution_count": 330,
      "outputs": [
        {
          "output_type": "display_data",
          "data": {
            "image/png": "[encoded data removed]",
            "text/plain": [
              "<Figure size 504x504 with 1 Axes>"
            ]
          },
          "metadata": {
            "tags": [],
            "needs_background": "light"
          }
        }
      ]
    },
    {
      "cell_type": "markdown",
      "metadata": {
        "id": "vwWbHiDTpomA"
      },
      "source": [
        "#### Aspiration"
      ]
    },
    {
      "cell_type": "markdown",
      "metadata": {
        "id": "LoJjUjxgrW8G"
      },
      "source": [
        "Es un atributo altamente desbalanceado que no parece separar ni entre gas/diesel, ni entre consumos altos/bajos. Como estamos en la tarea de regresion sobre el precio, el desbalanceo no es tan critico como en clasificacion (donde habria que tener en cuenta los modelos constantes)."
      ]
    },
    {
      "cell_type": "code",
      "metadata": {
        "colab": {
          "base_uri": "https://localhost:8080/",
          "height": 0
        },
        "id": "CRLOV_oOqqpD",
        "outputId": "a0cf52a9-db8e-45a8-ae95-ec982d5f2f24"
      },
      "source": [
        "plt.rcParams['figure.figsize']=(7,7);\r\n",
        "plt.bar(['std', 'turbo'], data.aspiration_std.value_counts());\r\n",
        "plt.title(\"Aspiration Counts\");"
      ],
      "execution_count": 331,
      "outputs": [
        {
          "output_type": "display_data",
          "data": {
            "image/png": "[encoded data removed]",
            "text/plain": [
              "<Figure size 504x504 with 1 Axes>"
            ]
          },
          "metadata": {
            "tags": [],
            "needs_background": "light"
          }
        }
      ]
    },
    {
      "cell_type": "markdown",
      "metadata": {
        "id": "GIpS1RQysXnK"
      },
      "source": [
        "#### Make"
      ]
    },
    {
      "cell_type": "markdown",
      "metadata": {
        "id": "oMCtcKCishRH"
      },
      "source": [
        "Anteriormente en el apartado de dummy variables hemos transformado las etiquetas a one hot encoding, estos són los resultados obtenidos, una posible transformación seria convertir las marcas de los vehiculos a continente de procedencia ya que los vehiculos de importación tienden a ser mas caros.\r\n",
        "\r\n",
        "Inicialmente no vamos a convertir estos datos, si vemos que hay problemas con la adición de estas cambiaremos el enfoque."
      ]
    },
    {
      "cell_type": "code",
      "metadata": {
        "id": "9a0IdQNrtUE_",
        "colab": {
          "base_uri": "https://localhost:8080/",
          "height": 0
        },
        "outputId": "7a6ebe28-e838-4b58-c88b-385b2b7a22cb"
      },
      "source": [
        "data_no_OH.make.value_counts().plot(kind='bar');"
      ],
      "execution_count": 332,
      "outputs": [
        {
          "output_type": "display_data",
          "data": {
            "image/png": "[encoded data removed]",
            "text/plain": [
              "<Figure size 504x504 with 1 Axes>"
            ]
          },
          "metadata": {
            "tags": [],
            "needs_background": "light"
          }
        }
      ]
    },
    {
      "cell_type": "markdown",
      "metadata": {
        "id": "avbAA5mestxq"
      },
      "source": [
        "#### Drive_wheels"
      ]
    },
    {
      "cell_type": "markdown",
      "metadata": {
        "id": "7lvEEZGfs3uv"
      },
      "source": [
        "Si exploramos como es la situación en relación a la tracción de los coches nos encontramos con una situación desbalanceada desde los coches con tracción a cuatro ruedas, en el caso de las tracciones delanteras y traseras estas se distribuyen mejor, en principio vamos a dejar esta métrica para ver como se comporta el modelo."
      ]
    },
    {
      "cell_type": "code",
      "metadata": {
        "id": "pGCrPCVRtUcK",
        "colab": {
          "base_uri": "https://localhost:8080/",
          "height": 0
        },
        "outputId": "0820b0ba-acfe-49b6-c04e-ed5ad80d19d3"
      },
      "source": [
        "data_no_OH.drive_wheels.value_counts().plot(kind='bar');"
      ],
      "execution_count": 333,
      "outputs": [
        {
          "output_type": "display_data",
          "data": {
            "image/png": "[encoded data removed]",
            "text/plain": [
              "<Figure size 504x504 with 1 Axes>"
            ]
          },
          "metadata": {
            "tags": [],
            "needs_background": "light"
          }
        }
      ]
    },
    {
      "cell_type": "markdown",
      "metadata": {
        "id": "CGp66vy2s5e8"
      },
      "source": [
        "#### Body_style"
      ]
    },
    {
      "cell_type": "markdown",
      "metadata": {
        "id": "95Ry7H-6s8u4"
      },
      "source": [
        "A pesar del desbalanceo entre clases, creemos que puede ser de utilidad al modelo porque las clases mayoritarias tienden a ser mas baratas (algo que pasa en el mundo real) mientras que los modelos mas distintivos como pueden ser los descapotables tienen una tendencia superior al precio. Esto se puede apreciar en los boxplots."
      ]
    },
    {
      "cell_type": "code",
      "metadata": {
        "id": "I6ZBwvYptU1T",
        "colab": {
          "base_uri": "https://localhost:8080/",
          "height": 0
        },
        "outputId": "a870f931-2eb8-4eb3-aec5-58b8dbfd2c36"
      },
      "source": [
        "data_no_OH.body_style.value_counts().plot(kind='bar');\r\n",
        "data_no_OH.boxplot(column='price', by='body_style', figsize=(12,8));"
      ],
      "execution_count": 334,
      "outputs": [
        {
          "output_type": "stream",
          "text": [
            "/usr/local/lib/python3.6/dist-packages/numpy/core/_asarray.py:83: VisibleDeprecationWarning: Creating an ndarray from ragged nested sequences (which is a list-or-tuple of lists-or-tuples-or ndarrays with different lengths or shapes) is deprecated. If you meant to do this, you must specify 'dtype=object' when creating the ndarray\n",
            "  return array(a, dtype, copy=False, order=order)\n"
          ],
          "name": "stderr"
        },
        {
          "output_type": "display_data",
          "data": {
            "image/png": "[encoded data removed]",
            "text/plain": [
              "<Figure size 504x504 with 1 Axes>"
            ]
          },
          "metadata": {
            "tags": [],
            "needs_background": "light"
          }
        },
        {
          "output_type": "display_data",
          "data": {
            "image/png": "[encoded data removed]",
            "text/plain": [
              "<Figure size 864x576 with 1 Axes>"
            ]
          },
          "metadata": {
            "tags": [],
            "needs_background": "light"
          }
        }
      ]
    },
    {
      "cell_type": "markdown",
      "metadata": {
        "id": "QoR9GeXEtDs-"
      },
      "source": [
        "#### Engine_type"
      ]
    },
    {
      "cell_type": "markdown",
      "metadata": {
        "id": "DgCWFAB4tHmi"
      },
      "source": [
        "Podemos ver claramente que hay un gran desbalanceo entre clases. El motor de tipo \"OHC\" es el mayoritario, y el que cuenta con vehiculos en todos los rangos. A pesar de esto, vemos que este tipo de motor, justo y precisamente por ser el mayoritario, por lo general es de los mas economicos. Creemos que puede ser interesante mantenerlo."
      ]
    },
    {
      "cell_type": "code",
      "metadata": {
        "id": "XHeOdbEutVV_",
        "colab": {
          "base_uri": "https://localhost:8080/",
          "height": 0
        },
        "outputId": "4be98384-3e8e-4266-ebbf-4aa7c21d280b"
      },
      "source": [
        "data_no_OH.engine_type.value_counts().plot(kind='bar');\r\n",
        "data_no_OH.boxplot(column='price', by='engine_type', figsize=(12,8));"
      ],
      "execution_count": 335,
      "outputs": [
        {
          "output_type": "stream",
          "text": [
            "/usr/local/lib/python3.6/dist-packages/numpy/core/_asarray.py:83: VisibleDeprecationWarning: Creating an ndarray from ragged nested sequences (which is a list-or-tuple of lists-or-tuples-or ndarrays with different lengths or shapes) is deprecated. If you meant to do this, you must specify 'dtype=object' when creating the ndarray\n",
            "  return array(a, dtype, copy=False, order=order)\n"
          ],
          "name": "stderr"
        },
        {
          "output_type": "display_data",
          "data": {
            "image/png": "[encoded data removed]",
            "text/plain": [
              "<Figure size 504x504 with 1 Axes>"
            ]
          },
          "metadata": {
            "tags": [],
            "needs_background": "light"
          }
        },
        {
          "output_type": "display_data",
          "data": {
            "image/png": "[encoded data removed]",
            "text/plain": [
              "<Figure size 864x576 with 1 Axes>"
            ]
          },
          "metadata": {
            "tags": [],
            "needs_background": "light"
          }
        }
      ]
    },
    {
      "cell_type": "markdown",
      "metadata": {
        "id": "bPrxl5_ptIlB"
      },
      "source": [
        "#### Fuel_system"
      ]
    },
    {
      "cell_type": "code",
      "metadata": {
        "id": "wYSgcTF3tV2C",
        "colab": {
          "base_uri": "https://localhost:8080/",
          "height": 1000
        },
        "outputId": "44f4f7e9-e775-4482-c9dd-79b8af59f6f6"
      },
      "source": [
        "data_no_OH.fuel_system.value_counts().plot(kind='bar');\r\n",
        "data_no_OH.boxplot(column='city_mpg', by='fuel_system', figsize=(12,8));"
      ],
      "execution_count": 336,
      "outputs": [
        {
          "output_type": "stream",
          "text": [
            "/usr/local/lib/python3.6/dist-packages/numpy/core/_asarray.py:83: VisibleDeprecationWarning: Creating an ndarray from ragged nested sequences (which is a list-or-tuple of lists-or-tuples-or ndarrays with different lengths or shapes) is deprecated. If you meant to do this, you must specify 'dtype=object' when creating the ndarray\n",
            "  return array(a, dtype, copy=False, order=order)\n"
          ],
          "name": "stderr"
        },
        {
          "output_type": "display_data",
          "data": {
            "image/png": "[encoded data removed]",
            "text/plain": [
              "<Figure size 504x504 with 1 Axes>"
            ]
          },
          "metadata": {
            "tags": [],
            "needs_background": "light"
          }
        },
        {
          "output_type": "display_data",
          "data": {
            "image/png": "[encoded data removed]",
            "text/plain": [
              "<Figure size 864x576 with 1 Axes>"
            ]
          },
          "metadata": {
            "tags": [],
            "needs_background": "light"
          }
        }
      ]
    },
    {
      "cell_type": "markdown",
      "metadata": {
        "id": "3zemUePctI0k"
      },
      "source": [
        "Intentamos reducir la dimensionalidad de los datos, reduciendo el sistema de addicion de combustible a los dos grandes tipos: Inyeccion y Carburacion\r\n",
        "\r\n",
        "\r\n",
        "Injection:\r\n",
        "* IDI\r\n",
        "* MFI\r\n",
        "* MPFI\r\n",
        "* SPFI\r\n",
        "* SPDI\r\n",
        "\r\n",
        "Carburator:\r\n",
        "* 1BBL\r\n",
        "* 2BBL\r\n",
        "* 4BBL"
      ]
    },
    {
      "cell_type": "code",
      "metadata": {
        "colab": {
          "base_uri": "https://localhost:8080/",
          "height": 1000
        },
        "id": "kjOZ3_duhYEW",
        "outputId": "71fccd68-931b-46c0-af3a-b0db3b7eff74"
      },
      "source": [
        "data_aux = data_no_OH.copy()\r\n",
        "\r\n",
        "fuel_system_list = ['idi', 'mpfi', 'spdi', 'mfi', 'spfi', '1bbl', '2bbl', '4bbl']\r\n",
        "fuel_system_replace = 5 * ['injection'] + 3 * ['carburation'];\r\n",
        "data_aux.fuel_system.replace(fuel_system_list,fuel_system_replace, inplace=True)\r\n",
        "\r\n",
        "data_aux.fuel_system.value_counts().plot(kind='bar');\r\n",
        "data_aux.boxplot(column='price', by='fuel_system', figsize=(12,8));"
      ],
      "execution_count": 337,
      "outputs": [
        {
          "output_type": "stream",
          "text": [
            "/usr/local/lib/python3.6/dist-packages/numpy/core/_asarray.py:83: VisibleDeprecationWarning: Creating an ndarray from ragged nested sequences (which is a list-or-tuple of lists-or-tuples-or ndarrays with different lengths or shapes) is deprecated. If you meant to do this, you must specify 'dtype=object' when creating the ndarray\n",
            "  return array(a, dtype, copy=False, order=order)\n"
          ],
          "name": "stderr"
        },
        {
          "output_type": "display_data",
          "data": {
            "image/png": "[encoded data removed]",
            "text/plain": [
              "<Figure size 504x504 with 1 Axes>"
            ]
          },
          "metadata": {
            "tags": [],
            "needs_background": "light"
          }
        },
        {
          "output_type": "display_data",
          "data": {
            "image/png": "[encoded data removed]",
            "text/plain": [
              "<Figure size 864x576 with 1 Axes>"
            ]
          },
          "metadata": {
            "tags": [],
            "needs_background": "light"
          }
        }
      ]
    },
    {
      "cell_type": "markdown",
      "metadata": {
        "id": "hUC2Z9t8jPxY"
      },
      "source": [
        "Podemos ver como de esta manera las clases se han balanceado bastante y ahora si que existe una frontera entre precios (sobretodo en entre el 75% de las muestras). Creemos conveniente sustituir el atributo para solo diferenciar entre estas dos clases:"
      ]
    },
    {
      "cell_type": "code",
      "metadata": {
        "id": "H8032dFVnPs9"
      },
      "source": [
        "fuel_systems = ['fuel_system_1bbl', 'fuel_system_2bbl', 'fuel_system_4bbl', \r\n",
        "               'fuel_system_idi', 'fuel_system_mfi', 'fuel_system_mpfi',\r\n",
        "               'fuel_system_spdi', 'fuel_system_spfi']\r\n",
        "\r\n",
        "# data.drop(columns=fuel_systems, inplace=True)\r\n",
        "data['fuel_system'] = data_aux.fuel_system\r\n",
        "data_no_OH['fuel_system'] = data_aux.fuel_system\r\n",
        "data = pd.get_dummies(data, columns=['fuel_system'], prefix=['fuel_system'])"
      ],
      "execution_count": 343,
      "outputs": []
    },
    {
      "cell_type": "markdown",
      "metadata": {
        "id": "eS_BnUj8tI_T"
      },
      "source": [
        "#### Engine Location"
      ]
    },
    {
      "cell_type": "markdown",
      "metadata": {
        "id": "2mapFZiutJIA"
      },
      "source": [
        "Esta variable podemos ver que esta tan desbalanceada, que practicamente es como si no existiese. Ergo, es totalmente conveniente eliminar un dato en el que el practicamente el total de las muestras pertenece a una clase."
      ]
    },
    {
      "cell_type": "code",
      "metadata": {
        "id": "vBxXS4FMtWTP",
        "colab": {
          "base_uri": "https://localhost:8080/",
          "height": 442
        },
        "outputId": "b56146e3-b6ed-4189-f474-657bc44e4284"
      },
      "source": [
        "data_no_OH.engine_location.value_counts()\r\n",
        "data_no_OH.engine_location.value_counts().plot(kind='bar');"
      ],
      "execution_count": 339,
      "outputs": [
        {
          "output_type": "display_data",
          "data": {
            "image/png": "[encoded data removed]",
            "text/plain": [
              "<Figure size 504x504 with 1 Axes>"
            ]
          },
          "metadata": {
            "tags": [],
            "needs_background": "light"
          }
        }
      ]
    },
    {
      "cell_type": "code",
      "metadata": {
        "id": "FtjYg23xwA1E"
      },
      "source": [
        "data_no_OH.drop(columns=['engine_location'], inplace=True);\r\n",
        "data.drop(columns=['engine_location_front','engine_location_rear'], inplace=True);"
      ],
      "execution_count": 340,
      "outputs": []
    },
    {
      "cell_type": "markdown",
      "metadata": {
        "id": "yUFCrCDipecn"
      },
      "source": [
        "## Normalizacion de Variables Numericas"
      ]
    },
    {
      "cell_type": "markdown",
      "metadata": {
        "id": "I2J7QlMKroSM"
      },
      "source": [
        "No hay mucha diferencia entre rangos (magnitudes) de los atributos. Los mas grandes son el peso del vehiculo (que esta entre aproximadamente 1500 y 4000) y el precio, pero este es valor que queremos predecir."
      ]
    },
    {
      "cell_type": "code",
      "metadata": {
        "colab": {
          "base_uri": "https://localhost:8080/",
          "height": 317
        },
        "id": "4rETcJIQpdTh",
        "outputId": "754b8432-0b05-4ea3-8e39-e57e356d17f3"
      },
      "source": [
        "data.describe()"
      ],
      "execution_count": 346,
      "outputs": [
        {
          "output_type": "execute_result",
          "data": {
            "text/html": [
              "<div>\n",
              "<style scoped>\n",
              "    .dataframe tbody tr th:only-of-type {\n",
              "        vertical-align: middle;\n",
              "    }\n",
              "\n",
              "    .dataframe tbody tr th {\n",
              "        vertical-align: top;\n",
              "    }\n",
              "\n",
              "    .dataframe thead th {\n",
              "        text-align: right;\n",
              "    }\n",
              "</style>\n",
              "<table border=\"1\" class=\"dataframe\">\n",
              "  <thead>\n",
              "    <tr style=\"text-align: right;\">\n",
              "      <th></th>\n",
              "      <th>symboling</th>\n",
              "      <th>normalized_losses</th>\n",
              "      <th>wheel_base</th>\n",
              "      <th>length</th>\n",
              "      <th>width</th>\n",
              "      <th>height</th>\n",
              "      <th>curb_weight</th>\n",
              "      <th>engine_size</th>\n",
              "      <th>compression_ratio</th>\n",
              "      <th>horsepower</th>\n",
              "      <th>city_mpg</th>\n",
              "      <th>highway_mpg</th>\n",
              "      <th>price</th>\n",
              "      <th>make_alfa_romero</th>\n",
              "      <th>make_audi</th>\n",
              "      <th>make_bmw</th>\n",
              "      <th>make_chevrolet</th>\n",
              "      <th>make_dodge</th>\n",
              "      <th>make_honda</th>\n",
              "      <th>make_isuzu</th>\n",
              "      <th>make_jaguar</th>\n",
              "      <th>make_mazda</th>\n",
              "      <th>make_mercedes_benz</th>\n",
              "      <th>make_mercury</th>\n",
              "      <th>make_mitsubishi</th>\n",
              "      <th>make_nissan</th>\n",
              "      <th>make_peugot</th>\n",
              "      <th>make_plymouth</th>\n",
              "      <th>make_porsche</th>\n",
              "      <th>make_saab</th>\n",
              "      <th>make_subaru</th>\n",
              "      <th>make_toyota</th>\n",
              "      <th>make_volkswagen</th>\n",
              "      <th>make_volvo</th>\n",
              "      <th>aspiration_std</th>\n",
              "      <th>aspiration_turbo</th>\n",
              "      <th>body_style_convertible</th>\n",
              "      <th>body_style_hardtop</th>\n",
              "      <th>body_style_hatchback</th>\n",
              "      <th>body_style_sedan</th>\n",
              "      <th>body_style_wagon</th>\n",
              "      <th>drive_wheels_4wd</th>\n",
              "      <th>drive_wheels_fwd</th>\n",
              "      <th>drive_wheels_rwd</th>\n",
              "      <th>engine_type_dohc</th>\n",
              "      <th>engine_type_dohcv</th>\n",
              "      <th>engine_type_l</th>\n",
              "      <th>engine_type_ohc</th>\n",
              "      <th>engine_type_ohcf</th>\n",
              "      <th>engine_type_ohcv</th>\n",
              "      <th>engine_type_rotor</th>\n",
              "      <th>fuel_system_carburation</th>\n",
              "      <th>fuel_system_injection</th>\n",
              "    </tr>\n",
              "  </thead>\n",
              "  <tbody>\n",
              "    <tr>\n",
              "      <th>count</th>\n",
              "      <td>199.000</td>\n",
              "      <td>199.000</td>\n",
              "      <td>199.000</td>\n",
              "      <td>199.000</td>\n",
              "      <td>199.000</td>\n",
              "      <td>199.000</td>\n",
              "      <td>199.000</td>\n",
              "      <td>199.000</td>\n",
              "      <td>199.000</td>\n",
              "      <td>199.000</td>\n",
              "      <td>199.000</td>\n",
              "      <td>199.000</td>\n",
              "      <td>199.000</td>\n",
              "      <td>199.000</td>\n",
              "      <td>199.000</td>\n",
              "      <td>199.000</td>\n",
              "      <td>199.000</td>\n",
              "      <td>199.000</td>\n",
              "      <td>199.000</td>\n",
              "      <td>199.00</td>\n",
              "      <td>199.000</td>\n",
              "      <td>199.000</td>\n",
              "      <td>199.000</td>\n",
              "      <td>199.000</td>\n",
              "      <td>199.000</td>\n",
              "      <td>199.000</td>\n",
              "      <td>199.000</td>\n",
              "      <td>199.000</td>\n",
              "      <td>199.000</td>\n",
              "      <td>199.000</td>\n",
              "      <td>199.000</td>\n",
              "      <td>199.000</td>\n",
              "      <td>199.000</td>\n",
              "      <td>199.000</td>\n",
              "      <td>199.000</td>\n",
              "      <td>199.000</td>\n",
              "      <td>199.000</td>\n",
              "      <td>199.000</td>\n",
              "      <td>199.000</td>\n",
              "      <td>199.000</td>\n",
              "      <td>199.000</td>\n",
              "      <td>199.000</td>\n",
              "      <td>199.000</td>\n",
              "      <td>199.000</td>\n",
              "      <td>199.000</td>\n",
              "      <td>199.0</td>\n",
              "      <td>199.000</td>\n",
              "      <td>199.000</td>\n",
              "      <td>199.000</td>\n",
              "      <td>199.000</td>\n",
              "      <td>199.000</td>\n",
              "      <td>199.000</td>\n",
              "      <td>199.000</td>\n",
              "    </tr>\n",
              "    <tr>\n",
              "      <th>mean</th>\n",
              "      <td>0.839</td>\n",
              "      <td>125.913</td>\n",
              "      <td>98.824</td>\n",
              "      <td>174.151</td>\n",
              "      <td>65.882</td>\n",
              "      <td>53.776</td>\n",
              "      <td>2556.030</td>\n",
              "      <td>126.824</td>\n",
              "      <td>10.179</td>\n",
              "      <td>103.397</td>\n",
              "      <td>25.201</td>\n",
              "      <td>30.683</td>\n",
              "      <td>13243.432</td>\n",
              "      <td>0.015</td>\n",
              "      <td>0.030</td>\n",
              "      <td>0.040</td>\n",
              "      <td>0.015</td>\n",
              "      <td>0.045</td>\n",
              "      <td>0.065</td>\n",
              "      <td>0.01</td>\n",
              "      <td>0.015</td>\n",
              "      <td>0.085</td>\n",
              "      <td>0.040</td>\n",
              "      <td>0.005</td>\n",
              "      <td>0.065</td>\n",
              "      <td>0.090</td>\n",
              "      <td>0.055</td>\n",
              "      <td>0.035</td>\n",
              "      <td>0.020</td>\n",
              "      <td>0.030</td>\n",
              "      <td>0.060</td>\n",
              "      <td>0.161</td>\n",
              "      <td>0.060</td>\n",
              "      <td>0.055</td>\n",
              "      <td>0.819</td>\n",
              "      <td>0.181</td>\n",
              "      <td>0.030</td>\n",
              "      <td>0.040</td>\n",
              "      <td>0.337</td>\n",
              "      <td>0.472</td>\n",
              "      <td>0.121</td>\n",
              "      <td>0.040</td>\n",
              "      <td>0.583</td>\n",
              "      <td>0.377</td>\n",
              "      <td>0.060</td>\n",
              "      <td>0.0</td>\n",
              "      <td>0.060</td>\n",
              "      <td>0.719</td>\n",
              "      <td>0.075</td>\n",
              "      <td>0.065</td>\n",
              "      <td>0.020</td>\n",
              "      <td>0.392</td>\n",
              "      <td>0.608</td>\n",
              "    </tr>\n",
              "    <tr>\n",
              "      <th>std</th>\n",
              "      <td>1.257</td>\n",
              "      <td>35.235</td>\n",
              "      <td>6.091</td>\n",
              "      <td>12.372</td>\n",
              "      <td>2.111</td>\n",
              "      <td>2.447</td>\n",
              "      <td>519.856</td>\n",
              "      <td>41.753</td>\n",
              "      <td>4.022</td>\n",
              "      <td>37.554</td>\n",
              "      <td>6.452</td>\n",
              "      <td>6.849</td>\n",
              "      <td>7978.708</td>\n",
              "      <td>0.122</td>\n",
              "      <td>0.171</td>\n",
              "      <td>0.197</td>\n",
              "      <td>0.122</td>\n",
              "      <td>0.208</td>\n",
              "      <td>0.248</td>\n",
              "      <td>0.10</td>\n",
              "      <td>0.122</td>\n",
              "      <td>0.280</td>\n",
              "      <td>0.197</td>\n",
              "      <td>0.071</td>\n",
              "      <td>0.248</td>\n",
              "      <td>0.288</td>\n",
              "      <td>0.229</td>\n",
              "      <td>0.185</td>\n",
              "      <td>0.141</td>\n",
              "      <td>0.171</td>\n",
              "      <td>0.239</td>\n",
              "      <td>0.368</td>\n",
              "      <td>0.239</td>\n",
              "      <td>0.229</td>\n",
              "      <td>0.386</td>\n",
              "      <td>0.386</td>\n",
              "      <td>0.171</td>\n",
              "      <td>0.197</td>\n",
              "      <td>0.474</td>\n",
              "      <td>0.500</td>\n",
              "      <td>0.326</td>\n",
              "      <td>0.197</td>\n",
              "      <td>0.494</td>\n",
              "      <td>0.486</td>\n",
              "      <td>0.239</td>\n",
              "      <td>0.0</td>\n",
              "      <td>0.239</td>\n",
              "      <td>0.451</td>\n",
              "      <td>0.265</td>\n",
              "      <td>0.248</td>\n",
              "      <td>0.141</td>\n",
              "      <td>0.489</td>\n",
              "      <td>0.489</td>\n",
              "    </tr>\n",
              "    <tr>\n",
              "      <th>min</th>\n",
              "      <td>-2.000</td>\n",
              "      <td>65.000</td>\n",
              "      <td>86.600</td>\n",
              "      <td>141.100</td>\n",
              "      <td>60.300</td>\n",
              "      <td>47.800</td>\n",
              "      <td>1488.000</td>\n",
              "      <td>61.000</td>\n",
              "      <td>7.000</td>\n",
              "      <td>48.000</td>\n",
              "      <td>13.000</td>\n",
              "      <td>16.000</td>\n",
              "      <td>5118.000</td>\n",
              "      <td>0.000</td>\n",
              "      <td>0.000</td>\n",
              "      <td>0.000</td>\n",
              "      <td>0.000</td>\n",
              "      <td>0.000</td>\n",
              "      <td>0.000</td>\n",
              "      <td>0.00</td>\n",
              "      <td>0.000</td>\n",
              "      <td>0.000</td>\n",
              "      <td>0.000</td>\n",
              "      <td>0.000</td>\n",
              "      <td>0.000</td>\n",
              "      <td>0.000</td>\n",
              "      <td>0.000</td>\n",
              "      <td>0.000</td>\n",
              "      <td>0.000</td>\n",
              "      <td>0.000</td>\n",
              "      <td>0.000</td>\n",
              "      <td>0.000</td>\n",
              "      <td>0.000</td>\n",
              "      <td>0.000</td>\n",
              "      <td>0.000</td>\n",
              "      <td>0.000</td>\n",
              "      <td>0.000</td>\n",
              "      <td>0.000</td>\n",
              "      <td>0.000</td>\n",
              "      <td>0.000</td>\n",
              "      <td>0.000</td>\n",
              "      <td>0.000</td>\n",
              "      <td>0.000</td>\n",
              "      <td>0.000</td>\n",
              "      <td>0.000</td>\n",
              "      <td>0.0</td>\n",
              "      <td>0.000</td>\n",
              "      <td>0.000</td>\n",
              "      <td>0.000</td>\n",
              "      <td>0.000</td>\n",
              "      <td>0.000</td>\n",
              "      <td>0.000</td>\n",
              "      <td>0.000</td>\n",
              "    </tr>\n",
              "    <tr>\n",
              "      <th>25%</th>\n",
              "      <td>0.000</td>\n",
              "      <td>99.500</td>\n",
              "      <td>94.500</td>\n",
              "      <td>166.550</td>\n",
              "      <td>64.100</td>\n",
              "      <td>52.000</td>\n",
              "      <td>2157.000</td>\n",
              "      <td>97.500</td>\n",
              "      <td>8.550</td>\n",
              "      <td>70.000</td>\n",
              "      <td>19.000</td>\n",
              "      <td>25.000</td>\n",
              "      <td>7775.000</td>\n",
              "      <td>0.000</td>\n",
              "      <td>0.000</td>\n",
              "      <td>0.000</td>\n",
              "      <td>0.000</td>\n",
              "      <td>0.000</td>\n",
              "      <td>0.000</td>\n",
              "      <td>0.00</td>\n",
              "      <td>0.000</td>\n",
              "      <td>0.000</td>\n",
              "      <td>0.000</td>\n",
              "      <td>0.000</td>\n",
              "      <td>0.000</td>\n",
              "      <td>0.000</td>\n",
              "      <td>0.000</td>\n",
              "      <td>0.000</td>\n",
              "      <td>0.000</td>\n",
              "      <td>0.000</td>\n",
              "      <td>0.000</td>\n",
              "      <td>0.000</td>\n",
              "      <td>0.000</td>\n",
              "      <td>0.000</td>\n",
              "      <td>1.000</td>\n",
              "      <td>0.000</td>\n",
              "      <td>0.000</td>\n",
              "      <td>0.000</td>\n",
              "      <td>0.000</td>\n",
              "      <td>0.000</td>\n",
              "      <td>0.000</td>\n",
              "      <td>0.000</td>\n",
              "      <td>0.000</td>\n",
              "      <td>0.000</td>\n",
              "      <td>0.000</td>\n",
              "      <td>0.0</td>\n",
              "      <td>0.000</td>\n",
              "      <td>0.000</td>\n",
              "      <td>0.000</td>\n",
              "      <td>0.000</td>\n",
              "      <td>0.000</td>\n",
              "      <td>0.000</td>\n",
              "      <td>0.000</td>\n",
              "    </tr>\n",
              "    <tr>\n",
              "      <th>50%</th>\n",
              "      <td>1.000</td>\n",
              "      <td>122.000</td>\n",
              "      <td>97.000</td>\n",
              "      <td>173.200</td>\n",
              "      <td>65.500</td>\n",
              "      <td>54.100</td>\n",
              "      <td>2414.000</td>\n",
              "      <td>119.000</td>\n",
              "      <td>9.000</td>\n",
              "      <td>95.000</td>\n",
              "      <td>24.000</td>\n",
              "      <td>30.000</td>\n",
              "      <td>10345.000</td>\n",
              "      <td>0.000</td>\n",
              "      <td>0.000</td>\n",
              "      <td>0.000</td>\n",
              "      <td>0.000</td>\n",
              "      <td>0.000</td>\n",
              "      <td>0.000</td>\n",
              "      <td>0.00</td>\n",
              "      <td>0.000</td>\n",
              "      <td>0.000</td>\n",
              "      <td>0.000</td>\n",
              "      <td>0.000</td>\n",
              "      <td>0.000</td>\n",
              "      <td>0.000</td>\n",
              "      <td>0.000</td>\n",
              "      <td>0.000</td>\n",
              "      <td>0.000</td>\n",
              "      <td>0.000</td>\n",
              "      <td>0.000</td>\n",
              "      <td>0.000</td>\n",
              "      <td>0.000</td>\n",
              "      <td>0.000</td>\n",
              "      <td>1.000</td>\n",
              "      <td>0.000</td>\n",
              "      <td>0.000</td>\n",
              "      <td>0.000</td>\n",
              "      <td>0.000</td>\n",
              "      <td>0.000</td>\n",
              "      <td>0.000</td>\n",
              "      <td>0.000</td>\n",
              "      <td>1.000</td>\n",
              "      <td>0.000</td>\n",
              "      <td>0.000</td>\n",
              "      <td>0.0</td>\n",
              "      <td>0.000</td>\n",
              "      <td>1.000</td>\n",
              "      <td>0.000</td>\n",
              "      <td>0.000</td>\n",
              "      <td>0.000</td>\n",
              "      <td>0.000</td>\n",
              "      <td>1.000</td>\n",
              "    </tr>\n",
              "    <tr>\n",
              "      <th>75%</th>\n",
              "      <td>2.000</td>\n",
              "      <td>150.000</td>\n",
              "      <td>102.400</td>\n",
              "      <td>183.500</td>\n",
              "      <td>66.700</td>\n",
              "      <td>55.550</td>\n",
              "      <td>2930.500</td>\n",
              "      <td>143.000</td>\n",
              "      <td>9.400</td>\n",
              "      <td>116.000</td>\n",
              "      <td>30.000</td>\n",
              "      <td>34.000</td>\n",
              "      <td>16501.500</td>\n",
              "      <td>0.000</td>\n",
              "      <td>0.000</td>\n",
              "      <td>0.000</td>\n",
              "      <td>0.000</td>\n",
              "      <td>0.000</td>\n",
              "      <td>0.000</td>\n",
              "      <td>0.00</td>\n",
              "      <td>0.000</td>\n",
              "      <td>0.000</td>\n",
              "      <td>0.000</td>\n",
              "      <td>0.000</td>\n",
              "      <td>0.000</td>\n",
              "      <td>0.000</td>\n",
              "      <td>0.000</td>\n",
              "      <td>0.000</td>\n",
              "      <td>0.000</td>\n",
              "      <td>0.000</td>\n",
              "      <td>0.000</td>\n",
              "      <td>0.000</td>\n",
              "      <td>0.000</td>\n",
              "      <td>0.000</td>\n",
              "      <td>1.000</td>\n",
              "      <td>0.000</td>\n",
              "      <td>0.000</td>\n",
              "      <td>0.000</td>\n",
              "      <td>1.000</td>\n",
              "      <td>1.000</td>\n",
              "      <td>0.000</td>\n",
              "      <td>0.000</td>\n",
              "      <td>1.000</td>\n",
              "      <td>1.000</td>\n",
              "      <td>0.000</td>\n",
              "      <td>0.0</td>\n",
              "      <td>0.000</td>\n",
              "      <td>1.000</td>\n",
              "      <td>0.000</td>\n",
              "      <td>0.000</td>\n",
              "      <td>0.000</td>\n",
              "      <td>1.000</td>\n",
              "      <td>1.000</td>\n",
              "    </tr>\n",
              "    <tr>\n",
              "      <th>max</th>\n",
              "      <td>3.000</td>\n",
              "      <td>256.000</td>\n",
              "      <td>120.900</td>\n",
              "      <td>208.100</td>\n",
              "      <td>72.000</td>\n",
              "      <td>59.800</td>\n",
              "      <td>4066.000</td>\n",
              "      <td>326.000</td>\n",
              "      <td>23.000</td>\n",
              "      <td>262.000</td>\n",
              "      <td>49.000</td>\n",
              "      <td>54.000</td>\n",
              "      <td>45400.000</td>\n",
              "      <td>1.000</td>\n",
              "      <td>1.000</td>\n",
              "      <td>1.000</td>\n",
              "      <td>1.000</td>\n",
              "      <td>1.000</td>\n",
              "      <td>1.000</td>\n",
              "      <td>1.00</td>\n",
              "      <td>1.000</td>\n",
              "      <td>1.000</td>\n",
              "      <td>1.000</td>\n",
              "      <td>1.000</td>\n",
              "      <td>1.000</td>\n",
              "      <td>1.000</td>\n",
              "      <td>1.000</td>\n",
              "      <td>1.000</td>\n",
              "      <td>1.000</td>\n",
              "      <td>1.000</td>\n",
              "      <td>1.000</td>\n",
              "      <td>1.000</td>\n",
              "      <td>1.000</td>\n",
              "      <td>1.000</td>\n",
              "      <td>1.000</td>\n",
              "      <td>1.000</td>\n",
              "      <td>1.000</td>\n",
              "      <td>1.000</td>\n",
              "      <td>1.000</td>\n",
              "      <td>1.000</td>\n",
              "      <td>1.000</td>\n",
              "      <td>1.000</td>\n",
              "      <td>1.000</td>\n",
              "      <td>1.000</td>\n",
              "      <td>1.000</td>\n",
              "      <td>0.0</td>\n",
              "      <td>1.000</td>\n",
              "      <td>1.000</td>\n",
              "      <td>1.000</td>\n",
              "      <td>1.000</td>\n",
              "      <td>1.000</td>\n",
              "      <td>1.000</td>\n",
              "      <td>1.000</td>\n",
              "    </tr>\n",
              "  </tbody>\n",
              "</table>\n",
              "</div>"
            ],
            "text/plain": [
              "       symboling  ...  fuel_system_injection\n",
              "count    199.000  ...                199.000\n",
              "mean       0.839  ...                  0.608\n",
              "std        1.257  ...                  0.489\n",
              "min       -2.000  ...                  0.000\n",
              "25%        0.000  ...                  0.000\n",
              "50%        1.000  ...                  1.000\n",
              "75%        2.000  ...                  1.000\n",
              "max        3.000  ...                  1.000\n",
              "\n",
              "[8 rows x 53 columns]"
            ]
          },
          "metadata": {
            "tags": []
          },
          "execution_count": 346
        }
      ]
    },
    {
      "cell_type": "markdown",
      "metadata": {
        "id": "osJlaq-GtY-7"
      },
      "source": [
        "## Guardamos datos limpios"
      ]
    },
    {
      "cell_type": "markdown",
      "metadata": {
        "id": "RLDv_ExLt4BR"
      },
      "source": [
        "Mezclamos los datos de forma aleatoria para eliminar posibles sesgos debitos al orden de las tuplas."
      ]
    },
    {
      "cell_type": "markdown",
      "metadata": {
        "id": "buBi3LTruzsK"
      },
      "source": [
        ""
      ]
    },
    {
      "cell_type": "code",
      "metadata": {
        "id": "w7jAsA-ztlkz"
      },
      "source": [
        "np.random.seed(42)\r\n",
        "clean_data = data.sample(frac=1).reset_index(drop=True)"
      ],
      "execution_count": 347,
      "outputs": []
    },
    {
      "cell_type": "markdown",
      "metadata": {
        "id": "oaU33rxouMMa"
      },
      "source": [
        "Guardamos los datos en un pickle para su posterior uso:"
      ]
    },
    {
      "cell_type": "code",
      "metadata": {
        "id": "F1sF1c7Yted5"
      },
      "source": [
        "clean_data.to_pickle('dataset/Automobile-processed.pkl.bz2',compression='bz2')"
      ],
      "execution_count": 349,
      "outputs": []
    },
    {
      "cell_type": "markdown",
      "metadata": {
        "id": "NqM4zeGIu2oU"
      },
      "source": [
        "Probamos a cargar los datos para ver que todo ha ido bien:"
      ]
    },
    {
      "cell_type": "code",
      "metadata": {
        "colab": {
          "base_uri": "https://localhost:8080/",
          "height": 224
        },
        "id": "Wgcu0ScouqXf",
        "outputId": "22dea92f-d766-494e-f5b8-4cfe95100135"
      },
      "source": [
        "data_loaded =pd.read_pickle('dataset/Automobile-processed.pkl.bz2',compression='bz2')\r\n",
        "data_loaded.head()"
      ],
      "execution_count": 350,
      "outputs": [
        {
          "output_type": "execute_result",
          "data": {
            "text/html": [
              "<div>\n",
              "<style scoped>\n",
              "    .dataframe tbody tr th:only-of-type {\n",
              "        vertical-align: middle;\n",
              "    }\n",
              "\n",
              "    .dataframe tbody tr th {\n",
              "        vertical-align: top;\n",
              "    }\n",
              "\n",
              "    .dataframe thead th {\n",
              "        text-align: right;\n",
              "    }\n",
              "</style>\n",
              "<table border=\"1\" class=\"dataframe\">\n",
              "  <thead>\n",
              "    <tr style=\"text-align: right;\">\n",
              "      <th></th>\n",
              "      <th>symboling</th>\n",
              "      <th>normalized_losses</th>\n",
              "      <th>wheel_base</th>\n",
              "      <th>length</th>\n",
              "      <th>width</th>\n",
              "      <th>height</th>\n",
              "      <th>curb_weight</th>\n",
              "      <th>engine_size</th>\n",
              "      <th>compression_ratio</th>\n",
              "      <th>horsepower</th>\n",
              "      <th>city_mpg</th>\n",
              "      <th>highway_mpg</th>\n",
              "      <th>price</th>\n",
              "      <th>make_alfa_romero</th>\n",
              "      <th>make_audi</th>\n",
              "      <th>make_bmw</th>\n",
              "      <th>make_chevrolet</th>\n",
              "      <th>make_dodge</th>\n",
              "      <th>make_honda</th>\n",
              "      <th>make_isuzu</th>\n",
              "      <th>make_jaguar</th>\n",
              "      <th>make_mazda</th>\n",
              "      <th>make_mercedes_benz</th>\n",
              "      <th>make_mercury</th>\n",
              "      <th>make_mitsubishi</th>\n",
              "      <th>make_nissan</th>\n",
              "      <th>make_peugot</th>\n",
              "      <th>make_plymouth</th>\n",
              "      <th>make_porsche</th>\n",
              "      <th>make_saab</th>\n",
              "      <th>make_subaru</th>\n",
              "      <th>make_toyota</th>\n",
              "      <th>make_volkswagen</th>\n",
              "      <th>make_volvo</th>\n",
              "      <th>aspiration_std</th>\n",
              "      <th>aspiration_turbo</th>\n",
              "      <th>body_style_convertible</th>\n",
              "      <th>body_style_hardtop</th>\n",
              "      <th>body_style_hatchback</th>\n",
              "      <th>body_style_sedan</th>\n",
              "      <th>body_style_wagon</th>\n",
              "      <th>drive_wheels_4wd</th>\n",
              "      <th>drive_wheels_fwd</th>\n",
              "      <th>drive_wheels_rwd</th>\n",
              "      <th>engine_type_dohc</th>\n",
              "      <th>engine_type_dohcv</th>\n",
              "      <th>engine_type_l</th>\n",
              "      <th>engine_type_ohc</th>\n",
              "      <th>engine_type_ohcf</th>\n",
              "      <th>engine_type_ohcv</th>\n",
              "      <th>engine_type_rotor</th>\n",
              "      <th>fuel_system_carburation</th>\n",
              "      <th>fuel_system_injection</th>\n",
              "    </tr>\n",
              "  </thead>\n",
              "  <tbody>\n",
              "    <tr>\n",
              "      <th>0</th>\n",
              "      <td>1</td>\n",
              "      <td>125.0</td>\n",
              "      <td>96.3</td>\n",
              "      <td>172.4</td>\n",
              "      <td>65.4</td>\n",
              "      <td>51.6</td>\n",
              "      <td>2365</td>\n",
              "      <td>122</td>\n",
              "      <td>8.5</td>\n",
              "      <td>88.0</td>\n",
              "      <td>25</td>\n",
              "      <td>32</td>\n",
              "      <td>6989.0</td>\n",
              "      <td>0</td>\n",
              "      <td>0</td>\n",
              "      <td>0</td>\n",
              "      <td>0</td>\n",
              "      <td>0</td>\n",
              "      <td>0</td>\n",
              "      <td>0</td>\n",
              "      <td>0</td>\n",
              "      <td>0</td>\n",
              "      <td>0</td>\n",
              "      <td>0</td>\n",
              "      <td>1</td>\n",
              "      <td>0</td>\n",
              "      <td>0</td>\n",
              "      <td>0</td>\n",
              "      <td>0</td>\n",
              "      <td>0</td>\n",
              "      <td>0</td>\n",
              "      <td>0</td>\n",
              "      <td>0</td>\n",
              "      <td>0</td>\n",
              "      <td>1</td>\n",
              "      <td>0</td>\n",
              "      <td>0</td>\n",
              "      <td>0</td>\n",
              "      <td>0</td>\n",
              "      <td>1</td>\n",
              "      <td>0</td>\n",
              "      <td>0</td>\n",
              "      <td>1</td>\n",
              "      <td>0</td>\n",
              "      <td>0</td>\n",
              "      <td>0</td>\n",
              "      <td>0</td>\n",
              "      <td>1</td>\n",
              "      <td>0</td>\n",
              "      <td>0</td>\n",
              "      <td>0</td>\n",
              "      <td>1</td>\n",
              "      <td>0</td>\n",
              "    </tr>\n",
              "    <tr>\n",
              "      <th>1</th>\n",
              "      <td>0</td>\n",
              "      <td>190.0</td>\n",
              "      <td>103.5</td>\n",
              "      <td>193.8</td>\n",
              "      <td>67.9</td>\n",
              "      <td>53.7</td>\n",
              "      <td>3380</td>\n",
              "      <td>209</td>\n",
              "      <td>8.0</td>\n",
              "      <td>182.0</td>\n",
              "      <td>16</td>\n",
              "      <td>22</td>\n",
              "      <td>41315.0</td>\n",
              "      <td>0</td>\n",
              "      <td>0</td>\n",
              "      <td>1</td>\n",
              "      <td>0</td>\n",
              "      <td>0</td>\n",
              "      <td>0</td>\n",
              "      <td>0</td>\n",
              "      <td>0</td>\n",
              "      <td>0</td>\n",
              "      <td>0</td>\n",
              "      <td>0</td>\n",
              "      <td>0</td>\n",
              "      <td>0</td>\n",
              "      <td>0</td>\n",
              "      <td>0</td>\n",
              "      <td>0</td>\n",
              "      <td>0</td>\n",
              "      <td>0</td>\n",
              "      <td>0</td>\n",
              "      <td>0</td>\n",
              "      <td>0</td>\n",
              "      <td>1</td>\n",
              "      <td>0</td>\n",
              "      <td>0</td>\n",
              "      <td>0</td>\n",
              "      <td>0</td>\n",
              "      <td>1</td>\n",
              "      <td>0</td>\n",
              "      <td>0</td>\n",
              "      <td>0</td>\n",
              "      <td>1</td>\n",
              "      <td>0</td>\n",
              "      <td>0</td>\n",
              "      <td>0</td>\n",
              "      <td>1</td>\n",
              "      <td>0</td>\n",
              "      <td>0</td>\n",
              "      <td>0</td>\n",
              "      <td>0</td>\n",
              "      <td>1</td>\n",
              "    </tr>\n",
              "    <tr>\n",
              "      <th>2</th>\n",
              "      <td>0</td>\n",
              "      <td>161.0</td>\n",
              "      <td>114.2</td>\n",
              "      <td>198.9</td>\n",
              "      <td>68.4</td>\n",
              "      <td>58.7</td>\n",
              "      <td>3485</td>\n",
              "      <td>152</td>\n",
              "      <td>21.0</td>\n",
              "      <td>95.0</td>\n",
              "      <td>25</td>\n",
              "      <td>25</td>\n",
              "      <td>17075.0</td>\n",
              "      <td>0</td>\n",
              "      <td>0</td>\n",
              "      <td>0</td>\n",
              "      <td>0</td>\n",
              "      <td>0</td>\n",
              "      <td>0</td>\n",
              "      <td>0</td>\n",
              "      <td>0</td>\n",
              "      <td>0</td>\n",
              "      <td>0</td>\n",
              "      <td>0</td>\n",
              "      <td>0</td>\n",
              "      <td>0</td>\n",
              "      <td>1</td>\n",
              "      <td>0</td>\n",
              "      <td>0</td>\n",
              "      <td>0</td>\n",
              "      <td>0</td>\n",
              "      <td>0</td>\n",
              "      <td>0</td>\n",
              "      <td>0</td>\n",
              "      <td>0</td>\n",
              "      <td>1</td>\n",
              "      <td>0</td>\n",
              "      <td>0</td>\n",
              "      <td>0</td>\n",
              "      <td>0</td>\n",
              "      <td>1</td>\n",
              "      <td>0</td>\n",
              "      <td>0</td>\n",
              "      <td>1</td>\n",
              "      <td>0</td>\n",
              "      <td>0</td>\n",
              "      <td>1</td>\n",
              "      <td>0</td>\n",
              "      <td>0</td>\n",
              "      <td>0</td>\n",
              "      <td>0</td>\n",
              "      <td>0</td>\n",
              "      <td>1</td>\n",
              "    </tr>\n",
              "    <tr>\n",
              "      <th>3</th>\n",
              "      <td>2</td>\n",
              "      <td>122.0</td>\n",
              "      <td>97.3</td>\n",
              "      <td>171.7</td>\n",
              "      <td>65.5</td>\n",
              "      <td>55.7</td>\n",
              "      <td>2209</td>\n",
              "      <td>109</td>\n",
              "      <td>9.0</td>\n",
              "      <td>85.0</td>\n",
              "      <td>27</td>\n",
              "      <td>34</td>\n",
              "      <td>7975.0</td>\n",
              "      <td>0</td>\n",
              "      <td>0</td>\n",
              "      <td>0</td>\n",
              "      <td>0</td>\n",
              "      <td>0</td>\n",
              "      <td>0</td>\n",
              "      <td>0</td>\n",
              "      <td>0</td>\n",
              "      <td>0</td>\n",
              "      <td>0</td>\n",
              "      <td>0</td>\n",
              "      <td>0</td>\n",
              "      <td>0</td>\n",
              "      <td>0</td>\n",
              "      <td>0</td>\n",
              "      <td>0</td>\n",
              "      <td>0</td>\n",
              "      <td>0</td>\n",
              "      <td>0</td>\n",
              "      <td>1</td>\n",
              "      <td>0</td>\n",
              "      <td>1</td>\n",
              "      <td>0</td>\n",
              "      <td>0</td>\n",
              "      <td>0</td>\n",
              "      <td>0</td>\n",
              "      <td>1</td>\n",
              "      <td>0</td>\n",
              "      <td>0</td>\n",
              "      <td>1</td>\n",
              "      <td>0</td>\n",
              "      <td>0</td>\n",
              "      <td>0</td>\n",
              "      <td>0</td>\n",
              "      <td>1</td>\n",
              "      <td>0</td>\n",
              "      <td>0</td>\n",
              "      <td>0</td>\n",
              "      <td>0</td>\n",
              "      <td>1</td>\n",
              "    </tr>\n",
              "    <tr>\n",
              "      <th>4</th>\n",
              "      <td>1</td>\n",
              "      <td>161.0</td>\n",
              "      <td>93.0</td>\n",
              "      <td>157.3</td>\n",
              "      <td>63.8</td>\n",
              "      <td>50.8</td>\n",
              "      <td>2145</td>\n",
              "      <td>98</td>\n",
              "      <td>7.6</td>\n",
              "      <td>102.0</td>\n",
              "      <td>24</td>\n",
              "      <td>30</td>\n",
              "      <td>7689.0</td>\n",
              "      <td>0</td>\n",
              "      <td>0</td>\n",
              "      <td>0</td>\n",
              "      <td>0</td>\n",
              "      <td>0</td>\n",
              "      <td>0</td>\n",
              "      <td>0</td>\n",
              "      <td>0</td>\n",
              "      <td>0</td>\n",
              "      <td>0</td>\n",
              "      <td>0</td>\n",
              "      <td>1</td>\n",
              "      <td>0</td>\n",
              "      <td>0</td>\n",
              "      <td>0</td>\n",
              "      <td>0</td>\n",
              "      <td>0</td>\n",
              "      <td>0</td>\n",
              "      <td>0</td>\n",
              "      <td>0</td>\n",
              "      <td>0</td>\n",
              "      <td>0</td>\n",
              "      <td>1</td>\n",
              "      <td>0</td>\n",
              "      <td>0</td>\n",
              "      <td>1</td>\n",
              "      <td>0</td>\n",
              "      <td>0</td>\n",
              "      <td>0</td>\n",
              "      <td>1</td>\n",
              "      <td>0</td>\n",
              "      <td>0</td>\n",
              "      <td>0</td>\n",
              "      <td>0</td>\n",
              "      <td>1</td>\n",
              "      <td>0</td>\n",
              "      <td>0</td>\n",
              "      <td>0</td>\n",
              "      <td>0</td>\n",
              "      <td>1</td>\n",
              "    </tr>\n",
              "  </tbody>\n",
              "</table>\n",
              "</div>"
            ],
            "text/plain": [
              "   symboling  normalized_losses  ...  fuel_system_carburation  fuel_system_injection\n",
              "0          1              125.0  ...                        1                      0\n",
              "1          0              190.0  ...                        0                      1\n",
              "2          0              161.0  ...                        0                      1\n",
              "3          2              122.0  ...                        0                      1\n",
              "4          1              161.0  ...                        0                      1\n",
              "\n",
              "[5 rows x 53 columns]"
            ]
          },
          "metadata": {
            "tags": []
          },
          "execution_count": 350
        }
      ]
    }
  ]
}